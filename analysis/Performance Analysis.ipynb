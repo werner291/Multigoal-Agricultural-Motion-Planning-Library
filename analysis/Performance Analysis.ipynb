{
 "cells": [
  {
   "cell_type": "code",
   "execution_count": 1,
   "metadata": {},
   "outputs": [],
   "source": [
    "import matplotlib.pyplot as plt\n",
    "import json\n",
    "import itertools\n",
    "import pandas as pd\n",
    "import numpy as np"
   ]
  },
  {
   "cell_type": "code",
   "execution_count": 2,
   "metadata": {
    "scrolled": true
   },
   "outputs": [],
   "source": [
    "with open('results_test.json') as f:\n",
    "    data = json.load(f)\n",
    "    \n",
    "data_list = []\n",
    "\n",
    "for run_idx, run in enumerate(data):\n",
    "    for planner_run in run['planner_runs']:\n",
    "        data_list.append({\n",
    "            'run_idx': run_idx,\n",
    "            'apples': run['number_of_apples'],\n",
    "            **planner_run\n",
    "        })\n",
    "            \n",
    "data_df = pd.DataFrame(data_list).sort_values('run_idx')\n",
    "data_df['mean_per_target_path_length'] = data_df.total_path_length / data_df.apples"
   ]
  },
  {
   "cell_type": "code",
   "execution_count": 13,
   "metadata": {},
   "outputs": [
    {
     "ename": "NameError",
     "evalue": "name 'data_d' is not defined",
     "output_type": "error",
     "traceback": [
      "\u001b[0;31m---------------------------------------------------------------------------\u001b[0m",
      "\u001b[0;31mNameError\u001b[0m                                 Traceback (most recent call last)",
      "\u001b[0;32m<ipython-input-13-5d03cf78fd90>\u001b[0m in \u001b[0;36m<module>\u001b[0;34m\u001b[0m\n\u001b[0;32m----> 1\u001b[0;31m \u001b[0mdata_d\u001b[0m\u001b[0;34m[\u001b[0m\u001b[0;34m[\u001b[0m\u001b[0;34m'mean_per_target_path_length'\u001b[0m\u001b[0;34m,\u001b[0m\u001b[0;34m'intermediate_planner'\u001b[0m\u001b[0;34m,\u001b[0m\u001b[0;34m'order_planning'\u001b[0m\u001b[0;34m,\u001b[0m \u001b[0;34m'optimization_objective'\u001b[0m\u001b[0;34m]\u001b[0m\u001b[0;34m]\u001b[0m\u001b[0;34m.\u001b[0m\u001b[0mboxplot\u001b[0m\u001b[0;34m(\u001b[0m\u001b[0mby\u001b[0m\u001b[0;34m=\u001b[0m\u001b[0;34m[\u001b[0m\u001b[0;34m'intermediate_planner'\u001b[0m\u001b[0;34m,\u001b[0m\u001b[0;34m'order_planning'\u001b[0m\u001b[0;34m,\u001b[0m \u001b[0;34m'optimization_objective'\u001b[0m\u001b[0;34m]\u001b[0m\u001b[0;34m,\u001b[0m \u001b[0mrot\u001b[0m\u001b[0;34m=\u001b[0m\u001b[0;36m90\u001b[0m\u001b[0;34m,\u001b[0m \u001b[0mfigsize\u001b[0m\u001b[0;34m=\u001b[0m\u001b[0;34m(\u001b[0m\u001b[0;36m16\u001b[0m\u001b[0;34m,\u001b[0m\u001b[0;36m5\u001b[0m\u001b[0;34m)\u001b[0m\u001b[0;34m)\u001b[0m\u001b[0;34m\u001b[0m\u001b[0;34m\u001b[0m\u001b[0m\n\u001b[0m\u001b[1;32m      2\u001b[0m \u001b[0;34m\u001b[0m\u001b[0m\n\u001b[1;32m      3\u001b[0m \u001b[0mplt\u001b[0m\u001b[0;34m.\u001b[0m\u001b[0mtitle\u001b[0m\u001b[0;34m(\u001b[0m\u001b[0;34m'Planner path length per target'\u001b[0m\u001b[0;34m)\u001b[0m\u001b[0;34m\u001b[0m\u001b[0;34m\u001b[0m\u001b[0m\n\u001b[1;32m      4\u001b[0m \u001b[0mplt\u001b[0m\u001b[0;34m.\u001b[0m\u001b[0msuptitle\u001b[0m\u001b[0;34m(\u001b[0m\u001b[0;34m''\u001b[0m\u001b[0;34m)\u001b[0m\u001b[0;34m\u001b[0m\u001b[0;34m\u001b[0m\u001b[0m\n\u001b[1;32m      5\u001b[0m \u001b[0mplt\u001b[0m\u001b[0;34m.\u001b[0m\u001b[0msavefig\u001b[0m\u001b[0;34m(\u001b[0m\u001b[0;34m'path_length_per_target.png'\u001b[0m\u001b[0;34m)\u001b[0m\u001b[0;34m\u001b[0m\u001b[0;34m\u001b[0m\u001b[0m\n",
      "\u001b[0;31mNameError\u001b[0m: name 'data_d' is not defined"
     ]
    }
   ],
   "source": [
    "data_d[['mean_per_target_path_length','intermediate_planner','order_planning', 'optimization_objective']].boxplot(by=['intermediate_planner','order_planning', 'optimization_objective'], rot=90, figsize=(16,5))\n",
    "\n",
    "plt.title('Planner path length per target')\n",
    "plt.suptitle('')\n",
    "plt.savefig('path_length_per_target.png')\n",
    "# plt.ylim(0,100)\n",
    "plt.show()"
   ]
  },
  {
   "cell_type": "code",
   "execution_count": null,
   "metadata": {},
   "outputs": [],
   "source": [
    "data_df[(data_df.solved) & (data_df.ptp_idx != 0)]\\\n",
    "    .groupby(['intermediate_planner', 'ordering', 'optimization_objective', 'run_idx'])\\\n",
    "    .unique_leaves_collided\\\n",
    "    .mean()\\\n",
    "    .to_frame()\\\n",
    "    .boxplot(by=['intermediate_planner','ordering', 'optimization_objective'], rot=90, figsize=(16,5))\n",
    "\n",
    "plt.title('Unique leaves hit per run')\n",
    "plt.suptitle('')\n",
    "plt.savefig('leaves_hit_per_target.png')\n",
    "plt.show()"
   ]
  },
  {
   "cell_type": "code",
   "execution_count": null,
   "metadata": {},
   "outputs": [],
   "source": [
    "solved_agg = data_df[(data_df.ptp_idx != 0)].groupby(['intermediate_planner', 'ordering', 'optimization_objective','run_idx']).agg({'solved':'sum','apples':'first'})\n",
    "solved_agg = solved_agg.groupby(['intermediate_planner', 'optimization_objective', 'ordering']).sum()\n",
    "solved_proportion = solved_agg.solved / solved_agg.apples\n",
    "solved_proportion.plot(kind='bar',rot=45,grid=True, figsize=(16,5))\n",
    "\n",
    "plt.ylim(0.95,1)\n",
    "plt.title('Proportion of visited targets')\n",
    "plt.savefig('proportion_visited_targets.png')\n",
    "plt.show()"
   ]
  },
  {
   "cell_type": "code",
   "execution_count": null,
   "metadata": {},
   "outputs": [],
   "source": [
    "bins = np.linspace(0,100,5)\n",
    "\n",
    "grouped = data_df.groupby(['intermediate_planner', 'ordering'])\n",
    "\n",
    "for label, df in grouped:\n",
    "    if label[0] != 'PRM':\n",
    "        agg = df.groupby(pd.cut(df.apples, bins)).path_length.agg(['mean','std','count'])\n",
    "        agg['std_error'] = agg['std'] / np.sqrt(agg['count'])\n",
    "\n",
    "\n",
    "        agg['mean'].plot(label=label, yerr=1.96 * agg['std_error'])\n",
    "    \n",
    "plt.legend(bbox_to_anchor=(1.05, 1))\n",
    "plt.title(\"Mean point-to-point path length by total number of apples\")\n",
    "plt.savefig('mean_ptp_length_by_num_apples.png')\n",
    "ply.ylim(0,60)\n",
    "plt.grid()\n",
    "plt.show()"
   ]
  },
  {
   "cell_type": "code",
   "execution_count": null,
   "metadata": {},
   "outputs": [],
   "source": [
    "plt.figure(figsize=(10,8))\n",
    "for label, df in data_df.groupby(['intermediate_planner', 'ordering']):\n",
    "    plt.scatter(df['distance_euclidean'],df['path_length'],label=label,s=1)\n",
    "    \n",
    "plt.legend(bbox_to_anchor=(1.05, 1))\n",
    "plt.title('Path length vs euclidean distance')\n",
    "plt.ylim(0,100)\n",
    "plt.show()"
   ]
  },
  {
   "cell_type": "code",
   "execution_count": null,
   "metadata": {},
   "outputs": [],
   "source": [
    "bins = np.linspace(0,100,5)\n",
    "\n",
    "corr = data_df.groupby(['intermediate_planner', 'ordering',pd.cut(data_df.apples, bins)])[['distance_euclidean','path_length']].corr()\n",
    "corr = corr.reset_index(3)\n",
    "corr = corr.path_length[corr.level_3 == 'distance_euclidean']\n",
    "for label, df in corr.groupby(['intermediate_planner', 'ordering']):\n",
    "    df.reset_index(['intermediate_planner', 'ordering'], drop=True).plot(label=label)\n",
    "\n",
    "plt.grid()\n",
    "plt.ylim(-0.5,0.5)\n",
    "plt.xlabel('Number of apples')\n",
    "plt.ylabel('Pearson correlation')\n",
    "plt.title('Correlation between path lenth and euclidean distance')\n",
    "plt.legend(bbox_to_anchor=(1.05, 1))\n",
    "plt.show()"
   ]
  },
  {
   "cell_type": "code",
   "execution_count": null,
   "metadata": {},
   "outputs": [],
   "source": [
    "df = pd.DataFrame(data[0]['leaf_collisions_over_time']).sort_values('t').set_index('t')\n",
    "(df.new_leaves_in_contact - df.contacts_ended).cumsum().plot()"
   ]
  },
  {
   "cell_type": "code",
   "execution_count": null,
   "metadata": {},
   "outputs": [],
   "source": []
  }
 ],
 "metadata": {
  "kernelspec": {
   "display_name": "Python 3",
   "language": "python",
   "name": "python3"
  },
  "language_info": {
   "codemirror_mode": {
    "name": "ipython",
    "version": 3
   },
   "file_extension": ".py",
   "mimetype": "text/x-python",
   "name": "python",
   "nbconvert_exporter": "python",
   "pygments_lexer": "ipython3",
   "version": "3.8.10"
  }
 },
 "nbformat": 4,
 "nbformat_minor": 4
}
