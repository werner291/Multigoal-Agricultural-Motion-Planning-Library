{
 "cells": [
  {
   "cell_type": "code",
   "execution_count": 1,
   "metadata": {},
   "outputs": [],
   "source": [
    "import matplotlib.pyplot as plt\n",
    "import json\n",
    "import itertools\n",
    "import pandas as pd\n",
    "import numpy as np"
   ]
  },
  {
   "cell_type": "code",
   "execution_count": 2,
   "metadata": {
    "scrolled": true
   },
   "outputs": [],
   "source": [
    "with open('results_test.json') as f:\n",
    "    data = json.load(f)\n",
    "    \n",
    "data_list = []\n",
    "\n",
    "for run_idx, run in enumerate(data):\n",
    "    for planner_run in run['planner_runs']:\n",
    "        data_list.append({\n",
    "            'run_idx': run_idx,\n",
    "            'apples': run['number_of_apples'],\n",
    "            **planner_run\n",
    "        })\n",
    "            \n",
    "data_df = pd.DataFrame(data_list).sort_values('run_idx')\n",
    "data_df['mean_per_target_path_length'] = data_df.total_path_length / data_df.apples\n",
    "data_df = data_df.set_index(['run_idx','intermediate_planner','order_planning', 'optimization_objective'])"
   ]
  },
  {
   "cell_type": "code",
   "execution_count": 3,
   "metadata": {},
   "outputs": [
    {
     "data": {
      "text/html": [
       "<div>\n",
       "<style scoped>\n",
       "    .dataframe tbody tr th:only-of-type {\n",
       "        vertical-align: middle;\n",
       "    }\n",
       "\n",
       "    .dataframe tbody tr th {\n",
       "        vertical-align: top;\n",
       "    }\n",
       "\n",
       "    .dataframe thead th {\n",
       "        text-align: right;\n",
       "    }\n",
       "</style>\n",
       "<table border=\"1\" class=\"dataframe\">\n",
       "  <thead>\n",
       "    <tr style=\"text-align: right;\">\n",
       "      <th></th>\n",
       "      <th></th>\n",
       "      <th></th>\n",
       "      <th></th>\n",
       "      <th>apples</th>\n",
       "      <th>targets_visited</th>\n",
       "      <th>total_path_length</th>\n",
       "      <th>total_runtime</th>\n",
       "      <th>unique_leaves_collided</th>\n",
       "      <th>leaf_collisions_over_time</th>\n",
       "      <th>mean_per_target_path_length</th>\n",
       "    </tr>\n",
       "    <tr>\n",
       "      <th>run_idx</th>\n",
       "      <th>intermediate_planner</th>\n",
       "      <th>order_planning</th>\n",
       "      <th>optimization_objective</th>\n",
       "      <th></th>\n",
       "      <th></th>\n",
       "      <th></th>\n",
       "      <th></th>\n",
       "      <th></th>\n",
       "      <th></th>\n",
       "      <th></th>\n",
       "    </tr>\n",
       "  </thead>\n",
       "  <tbody>\n",
       "    <tr>\n",
       "      <th rowspan=\"2\" valign=\"top\">0</th>\n",
       "      <th rowspan=\"2\" valign=\"top\">PRMstar</th>\n",
       "      <th>U-1-NN</th>\n",
       "      <th>Path Length</th>\n",
       "      <td>5</td>\n",
       "      <td>5</td>\n",
       "      <td>142.090071</td>\n",
       "      <td>513</td>\n",
       "      <td>0</td>\n",
       "      <td>NaN</td>\n",
       "      <td>28.418014</td>\n",
       "    </tr>\n",
       "    <tr>\n",
       "      <th>AT2Opt</th>\n",
       "      <th>Path Length</th>\n",
       "      <td>5</td>\n",
       "      <td>5</td>\n",
       "      <td>436.414185</td>\n",
       "      <td>10794</td>\n",
       "      <td>50</td>\n",
       "      <td>[{'contacts_ended': 0, 'new_leaves_in_contact'...</td>\n",
       "      <td>87.282837</td>\n",
       "    </tr>\n",
       "    <tr>\n",
       "      <th rowspan=\"2\" valign=\"top\">1</th>\n",
       "      <th rowspan=\"2\" valign=\"top\">PRMstar</th>\n",
       "      <th>U-1-NN</th>\n",
       "      <th>Path Length</th>\n",
       "      <td>5</td>\n",
       "      <td>5</td>\n",
       "      <td>126.661816</td>\n",
       "      <td>513</td>\n",
       "      <td>0</td>\n",
       "      <td>NaN</td>\n",
       "      <td>25.332363</td>\n",
       "    </tr>\n",
       "    <tr>\n",
       "      <th>AT2Opt</th>\n",
       "      <th>Path Length</th>\n",
       "      <td>5</td>\n",
       "      <td>4</td>\n",
       "      <td>379.030739</td>\n",
       "      <td>10543</td>\n",
       "      <td>42</td>\n",
       "      <td>[{'contacts_ended': 0, 'new_leaves_in_contact'...</td>\n",
       "      <td>75.806148</td>\n",
       "    </tr>\n",
       "    <tr>\n",
       "      <th rowspan=\"2\" valign=\"top\">2</th>\n",
       "      <th rowspan=\"2\" valign=\"top\">PRMstar</th>\n",
       "      <th>U-1-NN</th>\n",
       "      <th>Path Length</th>\n",
       "      <td>5</td>\n",
       "      <td>5</td>\n",
       "      <td>105.956277</td>\n",
       "      <td>509</td>\n",
       "      <td>0</td>\n",
       "      <td>NaN</td>\n",
       "      <td>21.191255</td>\n",
       "    </tr>\n",
       "    <tr>\n",
       "      <th>AT2Opt</th>\n",
       "      <th>Path Length</th>\n",
       "      <td>5</td>\n",
       "      <td>4</td>\n",
       "      <td>422.835499</td>\n",
       "      <td>10676</td>\n",
       "      <td>22</td>\n",
       "      <td>[{'contacts_ended': 0, 'new_leaves_in_contact'...</td>\n",
       "      <td>84.567100</td>\n",
       "    </tr>\n",
       "  </tbody>\n",
       "</table>\n",
       "</div>"
      ],
      "text/plain": [
       "                                                                    apples  \\\n",
       "run_idx intermediate_planner order_planning optimization_objective           \n",
       "0       PRMstar              U-1-NN         Path Length                  5   \n",
       "                             AT2Opt         Path Length                  5   \n",
       "1       PRMstar              U-1-NN         Path Length                  5   \n",
       "                             AT2Opt         Path Length                  5   \n",
       "2       PRMstar              U-1-NN         Path Length                  5   \n",
       "                             AT2Opt         Path Length                  5   \n",
       "\n",
       "                                                                    targets_visited  \\\n",
       "run_idx intermediate_planner order_planning optimization_objective                    \n",
       "0       PRMstar              U-1-NN         Path Length                           5   \n",
       "                             AT2Opt         Path Length                           5   \n",
       "1       PRMstar              U-1-NN         Path Length                           5   \n",
       "                             AT2Opt         Path Length                           4   \n",
       "2       PRMstar              U-1-NN         Path Length                           5   \n",
       "                             AT2Opt         Path Length                           4   \n",
       "\n",
       "                                                                    total_path_length  \\\n",
       "run_idx intermediate_planner order_planning optimization_objective                      \n",
       "0       PRMstar              U-1-NN         Path Length                    142.090071   \n",
       "                             AT2Opt         Path Length                    436.414185   \n",
       "1       PRMstar              U-1-NN         Path Length                    126.661816   \n",
       "                             AT2Opt         Path Length                    379.030739   \n",
       "2       PRMstar              U-1-NN         Path Length                    105.956277   \n",
       "                             AT2Opt         Path Length                    422.835499   \n",
       "\n",
       "                                                                    total_runtime  \\\n",
       "run_idx intermediate_planner order_planning optimization_objective                  \n",
       "0       PRMstar              U-1-NN         Path Length                       513   \n",
       "                             AT2Opt         Path Length                     10794   \n",
       "1       PRMstar              U-1-NN         Path Length                       513   \n",
       "                             AT2Opt         Path Length                     10543   \n",
       "2       PRMstar              U-1-NN         Path Length                       509   \n",
       "                             AT2Opt         Path Length                     10676   \n",
       "\n",
       "                                                                    unique_leaves_collided  \\\n",
       "run_idx intermediate_planner order_planning optimization_objective                           \n",
       "0       PRMstar              U-1-NN         Path Length                                  0   \n",
       "                             AT2Opt         Path Length                                 50   \n",
       "1       PRMstar              U-1-NN         Path Length                                  0   \n",
       "                             AT2Opt         Path Length                                 42   \n",
       "2       PRMstar              U-1-NN         Path Length                                  0   \n",
       "                             AT2Opt         Path Length                                 22   \n",
       "\n",
       "                                                                                            leaf_collisions_over_time  \\\n",
       "run_idx intermediate_planner order_planning optimization_objective                                                      \n",
       "0       PRMstar              U-1-NN         Path Length                                                           NaN   \n",
       "                             AT2Opt         Path Length             [{'contacts_ended': 0, 'new_leaves_in_contact'...   \n",
       "1       PRMstar              U-1-NN         Path Length                                                           NaN   \n",
       "                             AT2Opt         Path Length             [{'contacts_ended': 0, 'new_leaves_in_contact'...   \n",
       "2       PRMstar              U-1-NN         Path Length                                                           NaN   \n",
       "                             AT2Opt         Path Length             [{'contacts_ended': 0, 'new_leaves_in_contact'...   \n",
       "\n",
       "                                                                    mean_per_target_path_length  \n",
       "run_idx intermediate_planner order_planning optimization_objective                               \n",
       "0       PRMstar              U-1-NN         Path Length                               28.418014  \n",
       "                             AT2Opt         Path Length                               87.282837  \n",
       "1       PRMstar              U-1-NN         Path Length                               25.332363  \n",
       "                             AT2Opt         Path Length                               75.806148  \n",
       "2       PRMstar              U-1-NN         Path Length                               21.191255  \n",
       "                             AT2Opt         Path Length                               84.567100  "
      ]
     },
     "execution_count": 3,
     "metadata": {},
     "output_type": "execute_result"
    }
   ],
   "source": [
    "data_df"
   ]
  },
  {
   "cell_type": "code",
   "execution_count": 4,
   "metadata": {},
   "outputs": [
    {
     "data": {
      "image/png": "[encoded data removed]",
      "text/plain": [
       "<Figure size 288x288 with 1 Axes>"
      ]
     },
     "metadata": {
      "needs_background": "light"
     },
     "output_type": "display_data"
    }
   ],
   "source": [
    "(data_df.total_path_length / data_df.targets_visited)\\\n",
    "    .to_frame()\\\n",
    "    .boxplot(by=['intermediate_planner','order_planning', 'optimization_objective'], rot=90, figsize=(4,4))\n",
    "\n",
    "plt.title('Planner path length per target')\n",
    "plt.suptitle('')\n",
    "plt.savefig('path_length_per_target.png')\n",
    "plt.show()"
   ]
  },
  {
   "cell_type": "code",
   "execution_count": 5,
   "metadata": {},
   "outputs": [
    {
     "data": {
      "image/png": "[encoded data removed]",
      "text/plain": [
       "<Figure size 288x288 with 1 Axes>"
      ]
     },
     "metadata": {
      "needs_background": "light"
     },
     "output_type": "display_data"
    }
   ],
   "source": [
    "(data_df.unique_leaves_collided / data_df.targets_visited)\\\n",
    "    .to_frame()\\\n",
    "    .boxplot(by=['intermediate_planner','order_planning', 'optimization_objective'], rot=90, figsize=(4,4))\n",
    "\n",
    "plt.title('Unique leaves hit per run')\n",
    "plt.suptitle('')\n",
    "plt.savefig('leaves_hit_per_target.png')\n",
    "plt.show()"
   ]
  },
  {
   "cell_type": "code",
   "execution_count": 7,
   "metadata": {},
   "outputs": [
    {
     "data": {
      "image/png": "[encoded data removed]",
      "text/plain": [
       "<Figure size 288x288 with 1 Axes>"
      ]
     },
     "metadata": {
      "needs_background": "light"
     },
     "output_type": "display_data"
    }
   ],
   "source": [
    "(data_df.targets_visited/ data_df.apples)\\\n",
    "    .to_frame()\\\n",
    "    .boxplot(by=['intermediate_planner','order_planning', 'optimization_objective'], rot=90, figsize=(4,4))\n",
    "\n",
    "plt.ylim(0.45,1)\n",
    "plt.title('Proportion of visited targets')\n",
    "plt.savefig('proportion_visited_targets.png')\n",
    "plt.show()"
   ]
  }
 ],
 "metadata": {
  "kernelspec": {
   "display_name": "Python 3",
   "language": "python",
   "name": "python3"
  },
  "language_info": {
   "codemirror_mode": {
    "name": "ipython",
    "version": 3
   },
   "file_extension": ".py",
   "mimetype": "text/x-python",
   "name": "python",
   "nbconvert_exporter": "python",
   "pygments_lexer": "ipython3",
   "version": "3.8.10"
  }
 },
 "nbformat": 4,
 "nbformat_minor": 4
}
