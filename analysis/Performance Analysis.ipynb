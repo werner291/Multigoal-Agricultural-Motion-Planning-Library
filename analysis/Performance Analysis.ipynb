{
 "cells": [
  {
   "cell_type": "code",
   "execution_count": 1,
   "metadata": {},
   "outputs": [],
   "source": [
    "import matplotlib.pyplot as plt\n",
    "import json\n",
    "import itertools\n",
    "import pandas as pd\n",
    "import numpy as np"
   ]
  },
  {
   "cell_type": "code",
   "execution_count": 8,
   "metadata": {
    "scrolled": true
   },
   "outputs": [],
   "source": [
    "with open('results_test.json') as f:\n",
    "    data = json.load(f)\n",
    "    \n",
    "data_list = []\n",
    "\n",
    "for run_idx, run in enumerate(data):\n",
    "        \n",
    "    for planner_run in run['planner_runs']:\n",
    "        for ptp_idx, ptp_run in enumerate(planner_run['segments']):\n",
    "            data_list.append({\n",
    "                'run_idx': run_idx,\n",
    "                'ptp_idx': ptp_idx,\n",
    "                'apples': run['number_of_apples'],\n",
    "                **planner_run,\n",
    "                **ptp_run\n",
    "            })\n",
    "            \n",
    "data_df = pd.DataFrame(data_list).sort_values(['run_idx','ptp_idx'])\n",
    "apples_xyz = pd.DataFrame(data_df['apple'].to_list(), columns=['x','y','z'])\n",
    "\n",
    "for dim in 'xyz':\n",
    "    data_df['apple_'+dim] = apples_xyz[dim]\n",
    "    \n",
    "data_df['distance_euclidean'] = np.sqrt((data_df[['apple_x','apple_y','apple_z']] - data_df[['apple_x','apple_y','apple_z']].shift(1)).pow(2).sum(axis=1))\n",
    "data_df.drop(data_df[data_df.ptp_idx == 0].index)\n",
    "\n",
    "del data_df['apple']\n",
    "del apples_xyz"
   ]
  },
  {
   "cell_type": "code",
   "execution_count": 17,
   "metadata": {},
   "outputs": [
    {
     "data": {
      "text/plain": [
       "<matplotlib.axes._subplots.AxesSubplot at 0x7f1058b0c6a0>"
      ]
     },
     "execution_count": 17,
     "metadata": {},
     "output_type": "execute_result"
    },
    {
     "data": {
      "image/png": "[encoded data removed]",
      "text/plain": [
       "<Figure size 432x288 with 1 Axes>"
      ]
     },
     "metadata": {
      "needs_background": "light"
     },
     "output_type": "display_data"
    }
   ],
   "source": [
    "data_df['ith-nn'].plot.hist()"
   ]
  },
  {
   "cell_type": "code",
   "execution_count": 4,
   "metadata": {},
   "outputs": [
    {
     "data": {
      "image/png": "[encoded data removed]",
      "text/plain": [
       "<Figure size 432x288 with 1 Axes>"
      ]
     },
     "metadata": {
      "needs_background": "light"
     },
     "output_type": "display_data"
    }
   ],
   "source": [
    "data_df[(data_df.solved) & (data_df.ptp_idx != 0)]\\\n",
    "    .groupby(['intermediate_planner', 'ordering', 'run_idx'])\\\n",
    "    .path_length\\\n",
    "    .mean()\\\n",
    "    .to_frame()\\\n",
    "    .boxplot(by=['intermediate_planner','ordering'], rot=45)\n",
    "\n",
    "plt.title('Planner path length per target')\n",
    "plt.suptitle('')\n",
    "plt.savefig('path_length_per_target.png')\n",
    "plt.ylim(0,50)\n",
    "plt.show()"
   ]
  },
  {
   "cell_type": "code",
   "execution_count": 5,
   "metadata": {},
   "outputs": [
    {
     "ename": "AttributeError",
     "evalue": "'DataFrameGroupBy' object has no attribute 'unique_leaves_collided'",
     "output_type": "error",
     "traceback": [
      "\u001b[0;31m---------------------------------------------------------------------------\u001b[0m",
      "\u001b[0;31mAttributeError\u001b[0m                            Traceback (most recent call last)",
      "\u001b[0;32m<ipython-input-5-2eed2b9ba299>\u001b[0m in \u001b[0;36m<module>\u001b[0;34m\u001b[0m\n\u001b[0;32m----> 1\u001b[0;31m \u001b[0mdata_df\u001b[0m\u001b[0;34m[\u001b[0m\u001b[0;34m(\u001b[0m\u001b[0mdata_df\u001b[0m\u001b[0;34m.\u001b[0m\u001b[0msolved\u001b[0m\u001b[0;34m)\u001b[0m \u001b[0;34m&\u001b[0m \u001b[0;34m(\u001b[0m\u001b[0mdata_df\u001b[0m\u001b[0;34m.\u001b[0m\u001b[0mptp_idx\u001b[0m \u001b[0;34m!=\u001b[0m \u001b[0;36m0\u001b[0m\u001b[0;34m)\u001b[0m\u001b[0;34m]\u001b[0m\u001b[0;31m\\\u001b[0m\u001b[0;34m\u001b[0m\u001b[0;34m\u001b[0m\u001b[0m\n\u001b[0m\u001b[1;32m      2\u001b[0m     \u001b[0;34m.\u001b[0m\u001b[0mgroupby\u001b[0m\u001b[0;34m(\u001b[0m\u001b[0;34m[\u001b[0m\u001b[0;34m'intermediate_planner'\u001b[0m\u001b[0;34m,\u001b[0m \u001b[0;34m'ordering'\u001b[0m\u001b[0;34m,\u001b[0m \u001b[0;34m'run_idx'\u001b[0m\u001b[0;34m]\u001b[0m\u001b[0;34m)\u001b[0m\u001b[0;31m\\\u001b[0m\u001b[0;34m\u001b[0m\u001b[0;34m\u001b[0m\u001b[0m\n\u001b[1;32m      3\u001b[0m     \u001b[0;34m.\u001b[0m\u001b[0munique_leaves_collided\u001b[0m\u001b[0;31m\\\u001b[0m\u001b[0;34m\u001b[0m\u001b[0;34m\u001b[0m\u001b[0m\n\u001b[1;32m      4\u001b[0m     \u001b[0;34m.\u001b[0m\u001b[0mmean\u001b[0m\u001b[0;34m(\u001b[0m\u001b[0;34m)\u001b[0m\u001b[0;31m\\\u001b[0m\u001b[0;34m\u001b[0m\u001b[0;34m\u001b[0m\u001b[0m\n\u001b[1;32m      5\u001b[0m     \u001b[0;34m.\u001b[0m\u001b[0mto_frame\u001b[0m\u001b[0;34m(\u001b[0m\u001b[0;34m)\u001b[0m\u001b[0;31m\\\u001b[0m\u001b[0;34m\u001b[0m\u001b[0;34m\u001b[0m\u001b[0m\n",
      "\u001b[0;32m~/.local/lib/python3.8/site-packages/pandas/core/groupby/groupby.py\u001b[0m in \u001b[0;36m__getattr__\u001b[0;34m(self, attr)\u001b[0m\n\u001b[1;32m    909\u001b[0m             \u001b[0;32mreturn\u001b[0m \u001b[0mself\u001b[0m\u001b[0;34m[\u001b[0m\u001b[0mattr\u001b[0m\u001b[0;34m]\u001b[0m\u001b[0;34m\u001b[0m\u001b[0;34m\u001b[0m\u001b[0m\n\u001b[1;32m    910\u001b[0m \u001b[0;34m\u001b[0m\u001b[0m\n\u001b[0;32m--> 911\u001b[0;31m         raise AttributeError(\n\u001b[0m\u001b[1;32m    912\u001b[0m             \u001b[0;34mf\"'{type(self).__name__}' object has no attribute '{attr}'\"\u001b[0m\u001b[0;34m\u001b[0m\u001b[0;34m\u001b[0m\u001b[0m\n\u001b[1;32m    913\u001b[0m         )\n",
      "\u001b[0;31mAttributeError\u001b[0m: 'DataFrameGroupBy' object has no attribute 'unique_leaves_collided'"
     ]
    }
   ],
   "source": [
    "data_df[(data_df.solved) & (data_df.ptp_idx != 0)]\\\n",
    "    .groupby(['intermediate_planner', 'ordering', 'run_idx'])\\\n",
    "    .unique_leaves_collided\\\n",
    "    .mean()\\\n",
    "    .to_frame()\\\n",
    "    .boxplot(by=['intermediate_planner','ordering'], rot=45)\n",
    "\n",
    "plt.title('Unique leaves hit per run')\n",
    "plt.suptitle('')\n",
    "plt.savefig('leaves_hit_per_target.png')\n",
    "plt.show()"
   ]
  },
  {
   "cell_type": "code",
   "execution_count": null,
   "metadata": {},
   "outputs": [],
   "source": [
    "by_run = data_df[(data_df.solved) & (data_df.ptp_idx != 0)].groupby(['intermediate_planner', 'ordering', 'run_idx']).first()\n",
    "(by_run.unique_leaves_collided / by_run.apples).reset_index(['intermediate_planner', 'ordering']).boxplot(by=['intermediate_planner','ordering'], rot=45)"
   ]
  },
  {
   "cell_type": "code",
   "execution_count": null,
   "metadata": {},
   "outputs": [],
   "source": []
  },
  {
   "cell_type": "code",
   "execution_count": null,
   "metadata": {},
   "outputs": [],
   "source": [
    "solved_agg = data_df[(data_df.ptp_idx != 0)].groupby(['intermediate_planner', 'ordering','run_idx']).agg({'solved':'sum','apples':'first'})\n",
    "solved_agg = solved_agg.groupby(['intermediate_planner', 'ordering']).sum()\n",
    "solved_proportion = solved_agg.solved / solved_agg.apples\n",
    "solved_proportion.plot(kind='bar',rot=45,grid=True)\n",
    "\n",
    "plt.ylim(0.9,1)\n",
    "plt.title('Proportion of visited targets')\n",
    "plt.savefig('proportion_visited_targets.png')\n",
    "plt.show()"
   ]
  },
  {
   "cell_type": "code",
   "execution_count": null,
   "metadata": {},
   "outputs": [],
   "source": [
    "bins = np.linspace(0,100,5)\n",
    "\n",
    "grouped = data_df.groupby(['intermediate_planner', 'ordering'])\n",
    "\n",
    "for label, df in grouped:\n",
    "    if label[0] != 'PRM':\n",
    "        agg = df.groupby(pd.cut(df.apples, bins)).path_length.agg(['mean','std','count'])\n",
    "        agg['std_error'] = agg['std'] / np.sqrt(agg['count'])\n",
    "\n",
    "\n",
    "        agg['mean'].plot(label=label, yerr=1.96 * agg['std_error'])\n",
    "    \n",
    "plt.legend(bbox_to_anchor=(1.05, 1))\n",
    "plt.title(\"Mean point-to-point path length by total number of apples\")\n",
    "plt.savefig('mean_ptp_length_by_num_apples.png')\n",
    "ply.ylim(0,60)\n",
    "plt.grid()\n",
    "plt.show()"
   ]
  },
  {
   "cell_type": "code",
   "execution_count": null,
   "metadata": {},
   "outputs": [],
   "source": [
    "plt.figure(figsize=(10,8))\n",
    "for label, df in data_df.groupby(['intermediate_planner', 'ordering']):\n",
    "    plt.scatter(df['distance_euclidean'],df['path_length'],label=label,s=1)\n",
    "    \n",
    "plt.legend(bbox_to_anchor=(1.05, 1))\n",
    "plt.title('Path length vs euclidean distance')\n",
    "plt.ylim(0,100)\n",
    "plt.show()"
   ]
  },
  {
   "cell_type": "code",
   "execution_count": null,
   "metadata": {},
   "outputs": [],
   "source": [
    "bins = np.linspace(0,100,5)\n",
    "\n",
    "corr = data_df.groupby(['intermediate_planner', 'ordering',pd.cut(data_df.apples, bins)])[['distance_euclidean','path_length']].corr()\n",
    "corr = corr.reset_index(3)\n",
    "corr = corr.path_length[corr.level_3 == 'distance_euclidean']\n",
    "for label, df in corr.groupby(['intermediate_planner', 'ordering']):\n",
    "    df.reset_index(['intermediate_planner', 'ordering'], drop=True).plot(label=label)\n",
    "\n",
    "plt.grid()\n",
    "plt.ylim(-0.5,0.5)\n",
    "plt.xlabel('Number of apples')\n",
    "plt.ylabel('Pearson correlation')\n",
    "plt.title('Correlation between path lenth and euclidean distance')\n",
    "plt.legend(bbox_to_anchor=(1.05, 1))\n",
    "plt.show()"
   ]
  },
  {
   "cell_type": "code",
   "execution_count": null,
   "metadata": {},
   "outputs": [],
   "source": [
    "df = pd.DataFrame(data[0]['leaf_collisions_over_time']).sort_values('t').set_index('t')\n",
    "(df.new_leaves_in_contact - df.contacts_ended).cumsum().plot()"
   ]
  },
  {
   "cell_type": "code",
   "execution_count": null,
   "metadata": {},
   "outputs": [],
   "source": []
  }
 ],
 "metadata": {
  "kernelspec": {
   "display_name": "Python 3",
   "language": "python",
   "name": "python3"
  },
  "language_info": {
   "codemirror_mode": {
    "name": "ipython",
    "version": 3
   },
   "file_extension": ".py",
   "mimetype": "text/x-python",
   "name": "python",
   "nbconvert_exporter": "python",
   "pygments_lexer": "ipython3",
   "version": "3.8.10"
  }
 },
 "nbformat": 4,
 "nbformat_minor": 4
}
