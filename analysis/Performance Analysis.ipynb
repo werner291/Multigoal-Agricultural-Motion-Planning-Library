{
 "cells": [
  {
   "cell_type": "code",
   "execution_count": 1,
   "metadata": {},
   "outputs": [],
   "source": [
    "import matplotlib.pyplot as plt\n",
    "import json\n",
    "import itertools\n",
    "import pandas as pd"
   ]
  },
  {
   "cell_type": "code",
   "execution_count": 2,
   "metadata": {
    "scrolled": true
   },
   "outputs": [
    {
     "data": {
      "text/html": [
       "<div>\n",
       "<style scoped>\n",
       "    .dataframe tbody tr th:only-of-type {\n",
       "        vertical-align: middle;\n",
       "    }\n",
       "\n",
       "    .dataframe tbody tr th {\n",
       "        vertical-align: top;\n",
       "    }\n",
       "\n",
       "    .dataframe thead th {\n",
       "        text-align: right;\n",
       "    }\n",
       "</style>\n",
       "<table border=\"1\" class=\"dataframe\">\n",
       "  <thead>\n",
       "    <tr style=\"text-align: right;\">\n",
       "      <th></th>\n",
       "      <th>run_idx</th>\n",
       "      <th>ptp_idx</th>\n",
       "      <th>apples</th>\n",
       "      <th>intermediate_planner</th>\n",
       "      <th>ordering</th>\n",
       "      <th>segments</th>\n",
       "      <th>apple</th>\n",
       "      <th>feasible_solve_milliseconds</th>\n",
       "      <th>path_length</th>\n",
       "      <th>prm_edges_after_solve</th>\n",
       "      <th>prm_nodes_after_solve</th>\n",
       "      <th>solved</th>\n",
       "    </tr>\n",
       "  </thead>\n",
       "  <tbody>\n",
       "    <tr>\n",
       "      <th>0</th>\n",
       "      <td>0</td>\n",
       "      <td>0</td>\n",
       "      <td>42</td>\n",
       "      <td>PRM</td>\n",
       "      <td>random</td>\n",
       "      <td>[{'apple': [-2.2903766585300316, 1.79430988658...</td>\n",
       "      <td>[-2.2903766585300316, 1.794309886584009, 5.157...</td>\n",
       "      <td>8</td>\n",
       "      <td>183.286093</td>\n",
       "      <td>24</td>\n",
       "      <td>8</td>\n",
       "      <td>True</td>\n",
       "    </tr>\n",
       "    <tr>\n",
       "      <th>1</th>\n",
       "      <td>0</td>\n",
       "      <td>1</td>\n",
       "      <td>42</td>\n",
       "      <td>PRM</td>\n",
       "      <td>random</td>\n",
       "      <td>[{'apple': [-2.2903766585300316, 1.79430988658...</td>\n",
       "      <td>[2.346319599736985, -4.161062408750059, 0.6138...</td>\n",
       "      <td>8</td>\n",
       "      <td>227.116055</td>\n",
       "      <td>112</td>\n",
       "      <td>17</td>\n",
       "      <td>True</td>\n",
       "    </tr>\n",
       "    <tr>\n",
       "      <th>2</th>\n",
       "      <td>0</td>\n",
       "      <td>2</td>\n",
       "      <td>42</td>\n",
       "      <td>PRM</td>\n",
       "      <td>random</td>\n",
       "      <td>[{'apple': [-2.2903766585300316, 1.79430988658...</td>\n",
       "      <td>[-2.616665180714363, -0.4755651194033054, 6.31...</td>\n",
       "      <td>15</td>\n",
       "      <td>192.565020</td>\n",
       "      <td>506</td>\n",
       "      <td>47</td>\n",
       "      <td>True</td>\n",
       "    </tr>\n",
       "    <tr>\n",
       "      <th>3</th>\n",
       "      <td>0</td>\n",
       "      <td>3</td>\n",
       "      <td>42</td>\n",
       "      <td>PRM</td>\n",
       "      <td>random</td>\n",
       "      <td>[{'apple': [-2.2903766585300316, 1.79430988658...</td>\n",
       "      <td>[-2.2246790054291012, 0.7747436293501531, 4.63...</td>\n",
       "      <td>41</td>\n",
       "      <td>75.574050</td>\n",
       "      <td>2794</td>\n",
       "      <td>175</td>\n",
       "      <td>True</td>\n",
       "    </tr>\n",
       "    <tr>\n",
       "      <th>4</th>\n",
       "      <td>0</td>\n",
       "      <td>4</td>\n",
       "      <td>42</td>\n",
       "      <td>PRM</td>\n",
       "      <td>random</td>\n",
       "      <td>[{'apple': [-2.2903766585300316, 1.79430988658...</td>\n",
       "      <td>[-1.8932079926002243, 1.021596304547263, 3.384...</td>\n",
       "      <td>21</td>\n",
       "      <td>83.490532</td>\n",
       "      <td>3884</td>\n",
       "      <td>231</td>\n",
       "      <td>True</td>\n",
       "    </tr>\n",
       "  </tbody>\n",
       "</table>\n",
       "</div>"
      ],
      "text/plain": [
       "   run_idx  ptp_idx  apples intermediate_planner ordering  \\\n",
       "0        0        0      42                  PRM   random   \n",
       "1        0        1      42                  PRM   random   \n",
       "2        0        2      42                  PRM   random   \n",
       "3        0        3      42                  PRM   random   \n",
       "4        0        4      42                  PRM   random   \n",
       "\n",
       "                                            segments  \\\n",
       "0  [{'apple': [-2.2903766585300316, 1.79430988658...   \n",
       "1  [{'apple': [-2.2903766585300316, 1.79430988658...   \n",
       "2  [{'apple': [-2.2903766585300316, 1.79430988658...   \n",
       "3  [{'apple': [-2.2903766585300316, 1.79430988658...   \n",
       "4  [{'apple': [-2.2903766585300316, 1.79430988658...   \n",
       "\n",
       "                                               apple  \\\n",
       "0  [-2.2903766585300316, 1.794309886584009, 5.157...   \n",
       "1  [2.346319599736985, -4.161062408750059, 0.6138...   \n",
       "2  [-2.616665180714363, -0.4755651194033054, 6.31...   \n",
       "3  [-2.2246790054291012, 0.7747436293501531, 4.63...   \n",
       "4  [-1.8932079926002243, 1.021596304547263, 3.384...   \n",
       "\n",
       "   feasible_solve_milliseconds  path_length  prm_edges_after_solve  \\\n",
       "0                            8   183.286093                     24   \n",
       "1                            8   227.116055                    112   \n",
       "2                           15   192.565020                    506   \n",
       "3                           41    75.574050                   2794   \n",
       "4                           21    83.490532                   3884   \n",
       "\n",
       "   prm_nodes_after_solve  solved  \n",
       "0                      8    True  \n",
       "1                     17    True  \n",
       "2                     47    True  \n",
       "3                    175    True  \n",
       "4                    231    True  "
      ]
     },
     "execution_count": 2,
     "metadata": {},
     "output_type": "execute_result"
    }
   ],
   "source": [
    "with open('results.json') as f:\n",
    "    data = json.load(f)\n",
    "    \n",
    "data_list = []\n",
    "\n",
    "for run_idx, run in enumerate(data):\n",
    "    for planner_run in run['planner_runs']:\n",
    "        for ptp_idx, ptp_run in enumerate(planner_run['segments']):\n",
    "            data_list.append({\n",
    "                'run_idx': run_idx,\n",
    "                'ptp_idx': ptp_idx,\n",
    "                'apples': run['number_of_apples'],\n",
    "                **planner_run,\n",
    "                **ptp_run\n",
    "            })\n",
    "        \n",
    "data_df = pd.DataFrame(data_list)\n",
    "\n",
    "data_df.head()"
   ]
  },
  {
   "cell_type": "code",
   "execution_count": 72,
   "metadata": {},
   "outputs": [
    {
     "data": {
      "image/png": "[encoded data removed]",
      "text/plain": [
       "<Figure size 432x288 with 1 Axes>"
      ]
     },
     "metadata": {
      "needs_background": "light"
     },
     "output_type": "display_data"
    }
   ],
   "source": [
    "per_run_mean = data_df[(data_df.solved) & (data_df.ptp_idx != 0)]\\\n",
    "    .groupby(['intermediate_planner', 'ordering', 'run_idx'])\\\n",
    "    .path_length\\\n",
    "    .mean()\\\n",
    "    .to_frame()\\\n",
    "    .boxplot(by=['intermediate_planner','ordering'], rot=45)\n",
    "\n",
    "plt.title('Planner path length per apple')\n",
    "plt.show()"
   ]
  },
  {
   "cell_type": "code",
   "execution_count": 73,
   "metadata": {},
   "outputs": [
    {
     "data": {
      "text/plain": [
       "(0.9, 1.0)"
      ]
     },
     "execution_count": 73,
     "metadata": {},
     "output_type": "execute_result"
    },
    {
     "data": {
      "image/png": "[encoded data removed]",
      "text/plain": [
       "<Figure size 432x288 with 1 Axes>"
      ]
     },
     "metadata": {
      "needs_background": "light"
     },
     "output_type": "display_data"
    }
   ],
   "source": [
    "# TODO: Shoujld I be taking the mean on a per-run basis? This current method is biased to runs with many apples.\n",
    "data_df[(data_df.ptp_idx != 0)]\\\n",
    "    .groupby(['intermediate_planner', 'ordering'])\\\n",
    "    .solved.mean()\\\n",
    "    .plot(kind='bar',rot=45,grid=True)\n",
    "\n",
    "plt.ylim(0.9,1)"
   ]
  },
  {
   "cell_type": "code",
   "execution_count": 77,
   "metadata": {},
   "outputs": [
    {
     "data": {
      "text/plain": [
       "apples\n",
       "8     226.161720\n",
       "10    196.636219\n",
       "42    182.851254\n",
       "49    185.160580\n",
       "51    179.625709\n",
       "52    171.506924\n",
       "64    179.260920\n",
       "72    170.449932\n",
       "83    168.424437\n",
       "95    172.714355\n",
       "Name: path_length, dtype: float64"
      ]
     },
     "execution_count": 77,
     "metadata": {},
     "output_type": "execute_result"
    }
   ],
   "source": [
    "data_df[(data_df.ptp_idx != 0)].groupby('apples').path_length.mean()"
   ]
  }
 ],
 "metadata": {
  "kernelspec": {
   "display_name": "Python 3",
   "language": "python",
   "name": "python3"
  },
  "language_info": {
   "codemirror_mode": {
    "name": "ipython",
    "version": 3
   },
   "file_extension": ".py",
   "mimetype": "text/x-python",
   "name": "python",
   "nbconvert_exporter": "python",
   "pygments_lexer": "ipython3",
   "version": "3.9.6"
  }
 },
 "nbformat": 4,
 "nbformat_minor": 4
}
