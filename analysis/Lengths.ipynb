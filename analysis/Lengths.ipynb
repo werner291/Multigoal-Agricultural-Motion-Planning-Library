{
 "cells": [
  {
   "cell_type": "code",
   "execution_count": null,
   "id": "41f9ebd3-abd1-403b-b345-49fb651cdca4",
   "metadata": {
    "tags": []
   },
   "outputs": [],
   "source": [
    "import pandas as pd\n",
    "import json\n",
    "import numpy as np\n",
    "import seaborn as sns\n",
    "import matplotlib\n",
    "import matplotlib.pyplot as plt\n",
    "\n",
    "sns.set_theme()"
   ]
  },
  {
   "cell_type": "code",
   "execution_count": null,
   "id": "e126bf10-361b-4020-904a-19d8092e13b8",
   "metadata": {
    "tags": []
   },
   "outputs": [],
   "source": [
    "with open('data/dynamic_log_icra2024_3trees_deletion_smalltrees.json') as f:\n",
    "    data = json.load(f)\n",
    "    \n",
    "df = pd.json_normalize(data)\n",
    "df.columns = df.columns.str.replace('.*(?=\\.).','',regex=True)\n",
    "df['planner'] = df['planner'].replace({\n",
    "    'dynamic_planner_fre': 'Full reorder',\n",
    "    'dynamic_planner_lci': 'Our method',\n",
    "    'dynamic_planner_initial_orbit': 'Initial orbit'\n",
    "})\n",
    "df['Length/Visited'] = df['total_path_length'] / df['n_visited']\n",
    "df['p_given'] = df['n_given'] / df['n_total']\n",
    "df['p_given'] = 100.0 * (df['p_given']*4.0).round() / 4.0\n",
    "df['p_discoverable'] = df['n_discoverable'] / df['n_total']\n",
    "df['p_discoverable'] = 100.0 * (df['p_discoverable']*4.0).round() / 4.0\n",
    "df['p_false'] = df['n_false'] / df['n_total']\n",
    "df['p_false'] = 100.0 * (df['p_false'] * 4.0).round() / 4.0\n",
    "df['% visited'] = 100.0 * df['n_visited'] / df['n_total']\n",
    "\n",
    "norm_value = df[(df['planner'] == 'Our method') & (df['p_given'] == 100)][['tree_model','Length/Visited', 'time']].groupby('tree_model').mean()\n",
    "df = df.merge(norm_value, left_on='tree_model', right_index=True, how='left', suffixes=('', ' (normalized)'))\n",
    "df['Length/Visited (Normalized)'] = df['Length/Visited'] / df['Length/Visited (normalized)']\n",
    "df['Runtime (Normalized)'] = df['time'] / df['time (normalized)']"
   ]
  },
  {
   "cell_type": "code",
   "execution_count": null,
   "id": "efd75e92-67eb-4884-bd23-c46262474322",
   "metadata": {
    "tags": []
   },
   "outputs": [],
   "source": [
    "df['Runtime (Normalized)']"
   ]
  },
  {
   "cell_type": "code",
   "execution_count": null,
   "id": "ab6c26d6-c169-46fe-b4e3-54a4dce83188",
   "metadata": {
    "tags": []
   },
   "outputs": [],
   "source": [
    "fig, axes = plt.subplots(2,3, figsize=(8,5))\n",
    "\n",
    "sns.lineplot(data=df[df['n_false'] == 0].sort_values('planner'), x='p_discoverable', y='Length/Visited (Normalized)', hue='planner', ax=axes[0][0], legend=False)\n",
    "sns.lineplot(data=df[df['p_given'] == 50].sort_values('planner'), x='p_false', y='Length/Visited (Normalized)', hue='planner', ax=axes[0][1], legend=False)\n",
    "sns.lineplot(data=df[df['p_given'] == 0.0].sort_values('planner'), x='p_false', y='Length/Visited (Normalized)', hue='planner', ax=axes[0][2], legend=False)\n",
    "\n",
    "sns.lineplot(data=df[df['n_false'] == 0].sort_values('planner'), x='p_discoverable', y='% visited', hue='planner', ax=axes[1][0], legend=True)\n",
    "sns.lineplot(data=df[df['p_given'] == 50].sort_values('planner'), x='p_false', y='% visited', hue='planner', ax=axes[1][1], legend=False)\n",
    "sns.lineplot(data=df[df['p_given'] == 0.0].sort_values('planner'), x='p_false', y='% visited', hue='planner', ax=axes[1][2], legend=False)\n",
    "\n",
    "axes[0][0].set_ylim(0.6,1.4)\n",
    "axes[0][1].set_ylim(0.6,1.4)\n",
    "axes[0][2].set_ylim(0.5,2.5)\n",
    "\n",
    "axes[1][0].plot([0,100],[100,100], color='grey', linestyle='--')\n",
    "axes[1][1].plot([0,50],[100,50], color='grey', linestyle='--')\n",
    "axes[1][2].plot([0,100],[100,0.0], color='grey', linestyle='--')\n",
    "\n",
    "axes[1][0].set_ylim(0.0,100.0)\n",
    "axes[1][1].set_ylim(0.0,100.0)\n",
    "axes[1][2].set_ylim(0.0,100.0)\n",
    "    \n",
    "for ax_row in axes:\n",
    "    for ax in ax_row:\n",
    "        ax.set_xlabel('')\n",
    "        ax.set_ylabel('')\n",
    "        \n",
    "axes[0,0].set_ylabel('Length / Visited')\n",
    "axes[1,0].set_ylabel('% visited')\n",
    "\n",
    "axes[1,0].set_xlabel('% discoverable')\n",
    "axes[1,1].set_xlabel('% false')\n",
    "axes[1,2].set_xlabel('% false')\n",
    "\n",
    "axes[0,0].set_title('0% false')\n",
    "axes[0,1].set_title('50% given')\n",
    "axes[0,2].set_title('0% given')\n",
    "\n",
    "plt.tight_layout()\n",
    "# plt.savefig('plots_combined.pdf')"
   ]
  },
  {
   "cell_type": "code",
   "execution_count": null,
   "id": "e89de38f-479e-44ab-bf8d-1a904655dd56",
   "metadata": {
    "tags": []
   },
   "outputs": [],
   "source": [
    "fig, axes = plt.subplots(3,3, figsize=(12,8))\n",
    "\n",
    "sns.lineplot(data=df[df['n_false'] == 0].sort_values('planner'), x='p_discoverable', y='Length/Visited (Normalized)', hue='planner', ax=axes[0][0], legend=False)\n",
    "sns.lineplot(data=df[df['p_given'] == 50].sort_values('planner'), x='p_false', y='Length/Visited (Normalized)', hue='planner', ax=axes[0][1], legend=False)\n",
    "sns.lineplot(data=df[df['p_given'] == 0.0].sort_values('planner'), x='p_false', y='Length/Visited (Normalized)', hue='planner', ax=axes[0][2], legend=False)\n",
    "\n",
    "sns.lineplot(data=df[df['n_false'] == 0].sort_values('planner'), x='p_discoverable', y='Runtime (Normalized)', hue='planner', ax=axes[1][0], legend=False)\n",
    "sns.lineplot(data=df[df['p_given'] == 50].sort_values('planner'), x='p_false', y='Runtime (Normalized)', hue='planner', ax=axes[1][1], legend=False)\n",
    "sns.lineplot(data=df[df['p_given'] == 0.0].sort_values('planner'), x='p_false', y='Runtime (Normalized)', hue='planner', ax=axes[1][2], legend=False)\n",
    "\n",
    "sns.lineplot(data=df[df['n_false'] == 0].sort_values('planner'), x='p_discoverable', y='% visited', hue='planner', ax=axes[2][0], legend=True)\n",
    "sns.lineplot(data=df[df['p_given'] == 50].sort_values('planner'), x='p_false', y='% visited', hue='planner', ax=axes[2][1], legend=False)\n",
    "sns.lineplot(data=df[df['p_given'] == 0.0].sort_values('planner'), x='p_false', y='% visited', hue='planner', ax=axes[2][2], legend=False)\n",
    "\n",
    "axes[0][0].set_ylim(0.6,1.4)\n",
    "axes[0][1].set_ylim(0.6,1.4)\n",
    "axes[0][2].set_ylim(0.5,2.5)\n",
    "\n",
    "axes[1][0].set_yscale('log')\n",
    "axes[1][0].get_yaxis().set_major_formatter(matplotlib.ticker.ScalarFormatter())\n",
    "axes[1][0].set_yticks([0.5,1.0,2.0,4.0,8.0])\n",
    "\n",
    "axes[1][1].set_yscale('log')\n",
    "axes[1][1].get_yaxis().set_major_formatter(matplotlib.ticker.ScalarFormatter())\n",
    "axes[1][1].set_yticks([0.5,1.0,2.0,4.0,8.0])\n",
    "\n",
    "axes[1][2].set_yscale('log')\n",
    "axes[1][2].get_yaxis().set_major_formatter(matplotlib.ticker.ScalarFormatter())\n",
    "axes[1][2].set_yticks([0.5,1.0,2.0,4.0,8.0])\n",
    "\n",
    "axes[2][0].plot([0,100],[100,100], color='grey', linestyle='--')\n",
    "axes[2][1].plot([0,50],[100,50], color='grey', linestyle='--')\n",
    "axes[2][2].plot([0,100],[100,0.0], color='grey', linestyle='--')\n",
    "axes[2][0].set_ylim(0.0,100.0)\n",
    "axes[2][1].set_ylim(0.0,100.0)\n",
    "axes[2][2].set_ylim(0.0,100.0)\n",
    "\n",
    "\n",
    "\n",
    "# axes[2][0].set_ylim(0.0,50000.0)\n",
    "# axes[2][1].set_ylim(0.0,50000.0)\n",
    "# axes[2][2].set_ylim(0.0,50000.0)\n",
    "    \n",
    "for ax_row in axes:\n",
    "    for ax in ax_row:\n",
    "        ax.set_xlabel('')\n",
    "        ax.set_ylabel('')\n",
    "        \n",
    "axes[0,0].set_ylabel('Length / Visited')\n",
    "axes[1,0].set_ylabel('Runtime')\n",
    "axes[2,0].set_ylabel('% visited')\n",
    "\n",
    "axes[-1,0].set_xlabel('% discoverable')\n",
    "axes[-1,1].set_xlabel('% false')\n",
    "axes[-1,2].set_xlabel('% false')\n",
    "\n",
    "axes[0,0].set_title('0% false')\n",
    "axes[0,1].set_title('50% given')\n",
    "axes[0,2].set_title('0% given')\n",
    "\n",
    "plt.tight_layout()\n",
    "plt.savefig('plots_combined.pdf')"
   ]
  },
  {
   "cell_type": "code",
   "execution_count": null,
   "id": "89be6afd-4611-4b22-9eeb-95eb980ab274",
   "metadata": {
    "tags": []
   },
   "outputs": [],
   "source": [
    "df[df['p_discoverable'] == 100.0].groupby('planner')['Runtime (Normalized)'].mean()"
   ]
  }
 ],
 "metadata": {
  "kernelspec": {
   "display_name": "Python 3 (ipykernel)",
   "language": "python",
   "name": "python3"
  },
  "language_info": {
   "codemirror_mode": {
    "name": "ipython",
    "version": 3
   },
   "file_extension": ".py",
   "mimetype": "text/x-python",
   "name": "python",
   "nbconvert_exporter": "python",
   "pygments_lexer": "ipython3",
   "version": "3.10.12"
  }
 },
 "nbformat": 4,
 "nbformat_minor": 5
}
