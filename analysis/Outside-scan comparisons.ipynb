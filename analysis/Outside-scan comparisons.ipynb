{
 "cells": [
  {
   "cell_type": "code",
   "execution_count": null,
   "id": "f36c4b30-abbc-48cc-92ea-bcdf951ec1c0",
   "metadata": {
    "tags": []
   },
   "outputs": [],
   "source": [
    "import json\n",
    "import seaborn as sns\n",
    "import pandas as pd\n",
    "import matplotlib.pyplot as plt"
   ]
  },
  {
   "cell_type": "code",
   "execution_count": null,
   "id": "37f11e25-52f0-495d-9b6f-7c49e4785aa4",
   "metadata": {
    "tags": []
   },
   "outputs": [],
   "source": [
    "with open('data/point_scanning.json') as f:\n",
    "    data = json.load(f)"
   ]
  },
  {
   "cell_type": "code",
   "execution_count": null,
   "id": "faaaeabe-8468-4d72-a859-3be91a0f07b6",
   "metadata": {
    "tags": []
   },
   "outputs": [],
   "source": [
    "dfs = {}\n",
    "\n",
    "for problem, results in data.items():\n",
    "    dfs[problem] = {}\n",
    "    for pt, path_data in results.items():\n",
    "        df = pd.json_normalize(path_data)\n",
    "        df['tdist_sum'] = df['tdist'].cumsum()\n",
    "        df['rdist_sum'] = df['rdist'].cumsum()\n",
    "        df['jd'] = df['jd'].apply(pd.Series)\n",
    "        dfs[problem][pt]=df"
   ]
  },
  {
   "cell_type": "code",
   "execution_count": null,
   "id": "bf0687c2-7445-4177-9bb1-c51dd2c28a71",
   "metadata": {
    "tags": []
   },
   "outputs": [],
   "source": [
    "import matplotlib.pyplot as plt\n",
    "import numpy as np\n",
    "\n",
    "# Calculate the total number of scenarios\n",
    "n_scenarios = len(dfs)\n",
    "\n",
    "# Create a figure with a subplot for each scenario\n",
    "fig, axs = plt.subplots(n_scenarios, 2, figsize=(10, 5*n_scenarios))\n",
    "\n",
    "# Iterate over the scenarios\n",
    "for i, (scenario, scenario_data) in enumerate(dfs.items()):\n",
    "    # Set the title for this row of subplots\n",
    "    axs[i, 0].set_title(scenario)\n",
    "\n",
    "    # Set the y limit for the second subplot in this row\n",
    "    axs[i, 1].set_ylim(0, 165)\n",
    "\n",
    "    # Iterate over the planner data in this scenario\n",
    "    for name, planner_data in scenario_data.items():\n",
    "        # Plot the data on the subplots for this scenario\n",
    "        axs[i, 0].plot(planner_data['tdist_sum'], planner_data['pts_seen'], label=name)\n",
    "        axs[i, 1].plot(planner_data['tdist_sum'], planner_data['n_unique'], label=name)\n",
    "\n",
    "    # Add x and y labels\n",
    "    axs[i, 0].set_xlabel('Base translation distance')\n",
    "    axs[i, 0].set_ylabel('% of surface seen')\n",
    "    axs[i, 1].set_xlabel('Base translation distance')\n",
    "    axs[i, 1].set_ylabel('Unique fruits seen')\n",
    "\n",
    "    # Add grid and legend to the subplots for this scenario\n",
    "    axs[i, 0].grid()\n",
    "    axs[i, 1].grid()\n",
    "    axs[i, 0].legend()\n",
    "    axs[i, 1].legend()\n",
    "\n",
    "# Adjust the layout and display the figure\n",
    "plt.tight_layout()\n",
    "plt.show()"
   ]
  },
  {
   "cell_type": "code",
   "execution_count": null,
   "id": "7eee25f6-ac4c-4ade-9409-f36fc9694d61",
   "metadata": {},
   "outputs": [],
   "source": []
  }
 ],
 "metadata": {
  "kernelspec": {
   "display_name": "Python 3 (ipykernel)",
   "language": "python",
   "name": "python3"
  },
  "language_info": {
   "codemirror_mode": {
    "name": "ipython",
    "version": 3
   },
   "file_extension": ".py",
   "mimetype": "text/x-python",
   "name": "python",
   "nbconvert_exporter": "python",
   "pygments_lexer": "ipython3",
   "version": "3.10.12"
  }
 },
 "nbformat": 4,
 "nbformat_minor": 5
}
