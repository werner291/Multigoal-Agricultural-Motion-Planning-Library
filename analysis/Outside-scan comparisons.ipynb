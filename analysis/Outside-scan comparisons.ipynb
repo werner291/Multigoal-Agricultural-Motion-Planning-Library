{
 "cells": [
  {
   "cell_type": "code",
   "execution_count": null,
   "id": "f36c4b30-abbc-48cc-92ea-bcdf951ec1c0",
   "metadata": {
    "tags": []
   },
   "outputs": [],
   "source": [
    "import json\n",
    "import seaborn as sns\n",
    "import pandas as pd\n",
    "import matplotlib.pyplot as plt\n",
    "import numpy as np\n",
    "\n",
    "def counts_to_percent_seen(pts_seen, n_total=200):\n",
    "    n_fruit = len(pts_seen[0])\n",
    "    pct_seen = np.stack(pts_seen) / n_total\n",
    "    return pd.DataFrame({\n",
    "        'any': np.sum(pct_seen > 0, axis=1)/n_fruit,\n",
    "        '25%': np.sum(pct_seen >= 0.25, axis=1)/n_fruit,\n",
    "        '50%': np.sum(pct_seen >= 0.25, axis=1)/n_fruit,\n",
    "        '75%': np.sum(pct_seen >= 0.75, axis=1)/n_fruit,\n",
    "    })"
   ]
  },
  {
   "cell_type": "code",
   "execution_count": null,
   "id": "37f11e25-52f0-495d-9b6f-7c49e4785aa4",
   "metadata": {
    "tags": []
   },
   "outputs": [],
   "source": [
    "with open('data/point_scanning.json') as f:\n",
    "    data = json.load(f)"
   ]
  },
  {
   "cell_type": "code",
   "execution_count": null,
   "id": "e37b1d5b-50fe-49df-89ed-11a484853ef6",
   "metadata": {
    "tags": []
   },
   "outputs": [],
   "source": [
    "for scenario in data:\n",
    "    params = scenario['parameters']\n",
    "    \n",
    "    fig, axes = plt.subplots(2,3, figsize=(12, 8))  # Create a figure with 3 subplots    \n",
    "    plt.suptitle('Leaf density: {}; seed: {}'.format(params['tree_params']['leaf_scale'], params['tree_params']['seed']))\n",
    "    \n",
    "    columns = ['any','50%','75%']\n",
    "    \n",
    "    for attempt in scenario['attempts']:\n",
    "        \n",
    "        att_params = attempt['orbit']\n",
    "        trace = pd.json_normalize(attempt['result']['frames'])\n",
    "        trace['distance_from_last'] = np.stack(trace['joint_distances.joint_distances']).sum(axis=1) + trace['joint_distances.rotation_distance'] + trace['joint_distances.translation_distance']\n",
    "        trace['distance'] = trace['distance_from_last'].cumsum()\n",
    "        \n",
    "        pct_seen = counts_to_percent_seen(trace['pts_seen'])\n",
    "        \n",
    "        for (ax,col) in zip(axes[0],columns):\n",
    "            ax.plot(trace['distance'], pct_seen[col], label=att_params['parameters']['parameters']['radius'])\n",
    "\n",
    "            \n",
    "        pct_seen = counts_to_percent_seen(trace['interior_pts_seen'])\n",
    "        \n",
    "        for (ax,col) in zip(axes[1],columns):\n",
    "            ax.plot(trace['distance'], pct_seen[col], label=att_params['parameters']['parameters']['radius'])\n",
    "        \n",
    "    for ax, col in zip(axes[0], columns):\n",
    "        ax.set_ylim(0,1.1)\n",
    "        ax.grid()\n",
    "        ax.set_xlabel('Path length')\n",
    "        ax.set_ylabel('Proportion of apples')\n",
    "        ax.set_title('{} points seen'.format(col))\n",
    "        ax.legend()\n",
    "\n",
    "    for ax, col in zip(axes[1], columns):\n",
    "        ax.set_ylim(0,1.1)\n",
    "        ax.grid()\n",
    "        ax.set_xlabel('Path length')\n",
    "        ax.set_ylabel('Proportion of apples')\n",
    "        ax.set_title('{} interior points seen'.format(col))\n",
    "        ax.legend()\n",
    "\n",
    "    fig.tight_layout()"
   ]
  },
  {
   "cell_type": "code",
   "execution_count": null,
   "id": "c256578d-0be6-486d-8195-790c47d06e47",
   "metadata": {},
   "outputs": [],
   "source": [
    "trace['joint_distances.rotation_distance'].cumsum().plot()"
   ]
  }
 ],
 "metadata": {
  "kernelspec": {
   "display_name": "Python 3 (ipykernel)",
   "language": "python",
   "name": "python3"
  },
  "language_info": {
   "codemirror_mode": {
    "name": "ipython",
    "version": 3
   },
   "file_extension": ".py",
   "mimetype": "text/x-python",
   "name": "python",
   "nbconvert_exporter": "python",
   "pygments_lexer": "ipython3",
   "version": "3.11.8"
  }
 },
 "nbformat": 4,
 "nbformat_minor": 5
}
