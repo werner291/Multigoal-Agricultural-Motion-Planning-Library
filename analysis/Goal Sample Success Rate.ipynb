{
 "cells": [
  {
   "cell_type": "code",
   "execution_count": null,
   "id": "bc83f54f-01f5-46b0-a6a0-cb4bc081d736",
   "metadata": {
    "tags": []
   },
   "outputs": [],
   "source": [
    "# importing module\n",
    "import sys\n",
    "import random\n",
    "import numpy as np\n",
    "import seaborn as sns\n",
    "import matplotlib.pyplot as plt\n",
    "import pandas as pd\n",
    "\n",
    "# appending a path\n",
    "sys.path.append('/home/werner/workspace/Multigoal-Orchard-Drone-Planning-Library/cmake-build-release')\n",
    "\n",
    "import pymgodpl"
   ]
  },
  {
   "cell_type": "code",
   "execution_count": null,
   "id": "57f68e07-aed9-488b-8770-86fb16b1f97a",
   "metadata": {
    "tags": []
   },
   "outputs": [],
   "source": [
    "rm = pymgodpl.load_robot_model(1.0)"
   ]
  },
  {
   "cell_type": "code",
   "execution_count": null,
   "id": "343092d9-eb7f-4e2e-86c2-82498b3d7a2f",
   "metadata": {
    "tags": []
   },
   "outputs": [],
   "source": [
    "tms = pymgodpl.load_all_tree_meshes()"
   ]
  },
  {
   "cell_type": "code",
   "execution_count": null,
   "id": "12da9b53-418a-4d11-823f-a71590f66489",
   "metadata": {
    "tags": []
   },
   "outputs": [],
   "source": [
    "success_rates = {}\n",
    "\n",
    "for tm in tms:\n",
    "    \n",
    "    print('Working on :', tm.name)\n",
    "    \n",
    "    cd = pymgodpl.CollisionDetection(\n",
    "        [tm.trunk], rm\n",
    "    )\n",
    "\n",
    "    N_SAMPLES = 1000\n",
    "\n",
    "    collisions = pd.DataFrame(\n",
    "        np.array([[not cd.collides(pymgodpl.sample_goal_region(fruit_position, random.randint(0,100000), rm)) \n",
    "                   for sample_i in range(N_SAMPLES)] \n",
    "                  for fruit_position in tm.fruit_positions()])\n",
    "    )\n",
    "\n",
    "    collisions.index.name = 'target'\n",
    "\n",
    "    collision_tests = collisions.melt(var_name='sample_id', ignore_index=False).reset_index()\n",
    "    sample_success_rate = collision_tests.groupby('target')['value'].agg(['mean','count'])\n",
    "\n",
    "    # https://openstax.org/books/introductory-business-statistics/pages/8-3-a-confidence-interval-for-a-population-proportion\n",
    "    sample_success_rate['err'] = 1.96 * np.sqrt((sample_success_rate['mean'] * (1.0 - sample_success_rate['mean']) / sample_success_rate['count']))\n",
    "    \n",
    "    success_rates[tm.name] = sample_success_rate"
   ]
  },
  {
   "cell_type": "code",
   "execution_count": null,
   "id": "67ef55d1-c3a8-4895-afda-d43d36d08a8d",
   "metadata": {
    "tags": []
   },
   "outputs": [],
   "source": [
    "for_tree = success_rates['appletree'].sort_values('mean').reset_index()\n",
    "\n",
    "plt.plot(\n",
    "    100.0 * for_tree.index / for_tree.index.max(),\n",
    "    for_tree['mean']\n",
    ")\n",
    "plt.xlabel('% of apples')\n",
    "plt.ylabel('% successful goal samples')\n",
    "plt.grid()"
   ]
  },
  {
   "cell_type": "code",
   "execution_count": null,
   "id": "798ee415-fd91-4ca6-a075-0ad7680c9cd0",
   "metadata": {
    "tags": []
   },
   "outputs": [],
   "source": [
    "combined = pd.concat(success_rates, names=['tree'])\n",
    "combined.index.name = 'tree'\n",
    "combined = combined.reset_index()"
   ]
  },
  {
   "cell_type": "code",
   "execution_count": null,
   "id": "b3f4d188-3d04-4449-b836-f5a8fec4a8cf",
   "metadata": {
    "tags": []
   },
   "outputs": [],
   "source": [
    "plt.figure(figsize=(8,6))\n",
    "sns.boxplot(combined, x='tree', y='mean')\n",
    "plt.xticks(rotation=90)\n",
    "plt.xlabel('Tree name')\n",
    "plt.ylabel('Goal sample success rate')\n",
    "plt.yscale('symlog', linthresh=0.1)\n",
    "\n",
    "yticks = list(np.linspace(0,0.1,11)) + [0.15, 0.2,0.5,1.0]\n",
    "\n",
    "plt.title('Distribution of difficulty (based on sampling success rate)')\n",
    "plt.yticks(yticks, ['{:0.2f}'.format(t) for t in yticks])\n",
    "plt.grid()\n",
    "None"
   ]
  }
 ],
 "metadata": {
  "kernelspec": {
   "display_name": "Python 3 (ipykernel)",
   "language": "python",
   "name": "python3"
  },
  "language_info": {
   "codemirror_mode": {
    "name": "ipython",
    "version": 3
   },
   "file_extension": ".py",
   "mimetype": "text/x-python",
   "name": "python",
   "nbconvert_exporter": "python",
   "pygments_lexer": "ipython3",
   "version": "3.10.12"
  }
 },
 "nbformat": 4,
 "nbformat_minor": 5
}
