{
 "cells": [
  {
   "cell_type": "code",
   "execution_count": null,
   "id": "0d566bfb-63e9-4f75-a357-705f7f6da4ca",
   "metadata": {
    "tags": []
   },
   "outputs": [],
   "source": [
    "import json\n",
    "import pandas as pd\n",
    "import matplotlib.pyplot as plt\n",
    "import numpy as np"
   ]
  },
  {
   "cell_type": "code",
   "execution_count": null,
   "id": "f18714ef-e8ef-4234-a73a-81dfaf159d03",
   "metadata": {
    "tags": []
   },
   "outputs": [],
   "source": [
    "with open('data/path_length_prediction.json') as f:\n",
    "    data = json.load(f)"
   ]
  },
  {
   "cell_type": "code",
   "execution_count": null,
   "id": "79374745-9280-46c0-96ac-93662716e598",
   "metadata": {
    "tags": []
   },
   "outputs": [],
   "source": [
    "data['appletree'][0].keys()"
   ]
  },
  {
   "cell_type": "code",
   "execution_count": null,
   "id": "fd000126-003b-48e3-8655-4e7595f218a5",
   "metadata": {
    "tags": []
   },
   "outputs": [],
   "source": [
    "rows = []\n",
    "\n",
    "for tree_name, tree_data in data.items():\n",
    "    for idx, entry in enumerate(tree_data):\n",
    "        row = {'tree': tree_name}\n",
    "        \n",
    "        for method, method_data in entry.items():\n",
    "            if method == 'predictions':\n",
    "                for prediction in method_data:\n",
    "                    predictor_name = prediction['predictor_parameters']['name']\n",
    "                    \n",
    "                    label = f'{predictor_name}_predicted_length'\n",
    "                    \n",
    "                    if prediction['predictor_parameters'].get('include_approaches',False):\n",
    "                        label += ' (A)'\n",
    "                    \n",
    "                    row[label] = prediction['predicted_length']\n",
    "            else:\n",
    "                if isinstance(method_data, dict):\n",
    "                    row[f'{method}_actual_length'] = method_data['actual_length']\n",
    "                    row[f'{method}_actual_length_unoptimized'] = method_data['actual_length_unoptimized']\n",
    "                else:\n",
    "                    row[f'{method}_actual_length'] = None\n",
    "                    row[f'{method}_actual_length_unoptimized'] = None\n",
    "                    \n",
    "        rows.append(row)\n",
    "                    \n",
    "df = pd.DataFrame(rows).dropna()"
   ]
  },
  {
   "cell_type": "code",
   "execution_count": null,
   "id": "d7de307d-7b54-4f6c-bc76-075066e0b233",
   "metadata": {
    "tags": []
   },
   "outputs": [],
   "source": [
    "actual_length = [name for name in df.columns if name.endswith('_actual_length')]\n",
    "c = df.corr()[actual_length]\n",
    "c = c.loc[list(set(c.index) - set(actual_length))]\n",
    "\n",
    "labels = {\n",
    "    'EuclideanDistancePredictor_predicted_length' : \"Euclidean\",\n",
    "    \n",
    "    'on_chull_actual_length_unoptimized': 'CHull Unopt',\n",
    "    'on_cgal_chull_actual_length_unoptimized': 'CGAL Unopt',\n",
    "    'on_sphere_actual_length_unoptimized': 'Sphere Unopt',\n",
    "    'on_chull_actual_length': 'Chull Optimized',\n",
    "    'on_cgal_chull_actual_length': 'CGAL Optimized',\n",
    "    'on_sphere_actual_length': 'Sphere Optimized',\n",
    "    \n",
    "    'CGALConvexHullDistancePredictor_predicted_length': 'CGAL Pred',\n",
    "    'CGALConvexHullDistancePredictor_predicted_length (A)': 'CGAL Pred (A)',\n",
    "    \n",
    "    'HelicalDistancePredictor_predicted_length': 'Helix',\n",
    "    'HelicalDistancePredictor_predicted_length (A)': 'Helix (A)',\n",
    "\n",
    "    'CuttingPlaneConvexHullDistancePredictor_predicted_length': 'CHull Pred',\n",
    "    'CuttingPlaneConvexHullDistancePredictor_predicted_length (A)': 'CHull Pred (A)',\n",
    "    \n",
    "    'GreatCircleDistancePredictor_predicted_length': 'GreatCircle',\n",
    "    'GreatCircleDistancePredictor_predicted_length (A)': 'GreatCircle (A)',\n",
    "    \n",
    "\n",
    "    'DendriticConvexHullDistancePredictor_predicted_length': 'Dendritic',\n",
    " \n",
    "}"
   ]
  },
  {
   "cell_type": "code",
   "execution_count": null,
   "id": "77acb46e-e1e3-47b3-a683-42abe7124ea3",
   "metadata": {
    "tags": []
   },
   "outputs": [],
   "source": [
    "\n",
    "\n",
    "for column in c.columns:\n",
    "    col = c[column]\n",
    "    plt.scatter(x=[labels[l] for l in col.index], y=col.values, label=labels[column])\n",
    "    \n",
    "plt.legend(bbox_to_anchor=(1, 1), loc=\"upper left\")\n",
    "\n",
    "plt.xlabel('Prediction method')\n",
    "plt.ylabel('Correlation')\n",
    "plt.title('Pearson Correlation between predicted length and actual')\n",
    "\n",
    "plt.grid()\n",
    "_ = plt.xticks(orientation=90)"
   ]
  },
  {
   "cell_type": "code",
   "execution_count": null,
   "id": "bdf225d1-2d4b-4845-a107-512e7609db85",
   "metadata": {
    "tags": []
   },
   "outputs": [],
   "source": [
    "# Calculate the number of groups and the width of the bars\n",
    "num_groups = len(c.columns)\n",
    "bar_width = 1 / (num_groups + 1)\n",
    "\n",
    "# Create an array with the position of each bar on the x-axis\n",
    "x_positions = np.arange(len(c.index))\n",
    "\n",
    "fig, ax = plt.subplots()\n",
    "\n",
    "# Iterate through the columns and plot the bars\n",
    "for i, column in enumerate(c.columns):\n",
    "    col = c[column]\n",
    "    ax.bar(x_positions + i * bar_width, col.values, width=bar_width, label=labels[column])\n",
    "\n",
    "# Set the x-tick positions and labels\n",
    "ax.set_xticks(x_positions + num_groups * bar_width / 2)\n",
    "ax.set_xticklabels([labels[l] for l in c.index])\n",
    "\n",
    "plt.legend(bbox_to_anchor=(1, 1), loc=\"upper left\")\n",
    "\n",
    "plt.xlabel('Prediction method')\n",
    "plt.ylabel('Correlation')\n",
    "plt.title('Pearson Correlation between predicted length and actual')\n",
    "\n",
    "plt.grid()\n",
    "_ = plt.xticks(orientation=90)\n",
    "\n",
    "plt.ylim(0.5,1.0)\n",
    "\n",
    "plt.show()\n"
   ]
  },
  {
   "cell_type": "code",
   "execution_count": null,
   "id": "beea59dc-3a32-411c-827f-bf145e642108",
   "metadata": {
    "tags": []
   },
   "outputs": [],
   "source": [
    "\n",
    "plot, axes = plt.subplots(ncols=3, figsize=(15,5))\n",
    "\n",
    "for ax, col in zip(axes,actual_length):\n",
    "\n",
    "\n",
    "    ax.scatter(df[col+'_unoptimized'], df[col], s=10)\n",
    "\n",
    "    ax.plot([0,25],[0,25], c='gray')\n",
    "    ax.grid()\n",
    "    ax.set_title(col.capitalize().replace('_',' '))\n",
    "    \n",
    "    ax.set_xlabel('Unoptimized path length')\n",
    "    ax.set_ylabel('Optimized path length')"
   ]
  }
 ],
 "metadata": {
  "kernelspec": {
   "display_name": "Python 3 (ipykernel)",
   "language": "python",
   "name": "python3"
  },
  "language_info": {
   "codemirror_mode": {
    "name": "ipython",
    "version": 3
   },
   "file_extension": ".py",
   "mimetype": "text/x-python",
   "name": "python",
   "nbconvert_exporter": "python",
   "pygments_lexer": "ipython3",
   "version": "3.10.6"
  }
 },
 "nbformat": 4,
 "nbformat_minor": 5
}
