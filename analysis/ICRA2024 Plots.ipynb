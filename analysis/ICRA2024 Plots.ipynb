{
 "cells": [
  {
   "cell_type": "code",
   "execution_count": null,
   "id": "01ca33fe-0cb9-4692-9766-84c504f27145",
   "metadata": {},
   "outputs": [],
   "source": [
    "import json\n",
    "import pandas as pd\n",
    "import matplotlib.pyplot as plt\n",
    "\n",
    "# Load the entire JSON file\n",
    "file_path = \"data/dynamic_log_icra2024.json\"\n",
    "with open(file_path, 'r') as file:\n",
    "    data = json.load(file)\n",
    "\n",
    "# Create DataFrame\n",
    "df = pd.json_normalize(data)\n",
    "\n",
    "# Calculate ratios\n",
    "df['Discoverable/Total Ratio'] = df['parameters.problem.n_discoverable'] / df['parameters.problem.n_total']\n",
    "df['Visited/Total Ratio'] = df['result.n_visited'] / df['parameters.problem.n_total']\n",
    "df['Total Time'] = df['result.solution_segments'].apply(lambda x: sum(seg['time'] for seg in x))\n",
    "df['Total Path Length'] = df['result.solution_segments'].apply(lambda x: sum(seg['path_length'] for seg in x))\n",
    "\n",
    "# Find the computation time and path length when Discoverable/Total Ratio is 0 (our references)\n",
    "reference_time = df.loc[df['Discoverable/Total Ratio'] == 0, 'Total Time'].values[0]\n",
    "reference_length = df.loc[df['Discoverable/Total Ratio'] == 0, 'Total Path Length'].values[0]\n",
    "\n",
    "# Compute the time and length ratios to the time and length with 0 discoverable\n",
    "df['Time Ratio to 0 Discoverable'] = df['Total Time'] / reference_time\n",
    "df['Length Ratio to 0 Discoverable'] = df['Total Path Length'] / reference_length\n",
    "\n",
    "# Sort DataFrame by 'Discoverable/Total Ratio' and 'parameters.planner'\n",
    "df.sort_values(['Discoverable/Total Ratio', 'parameters.planner'], inplace=True)\n",
    "\n",
    "# Separate DataFrame by planner type\n",
    "df_fre = df[df['parameters.planner'] == 'dynamic_planner_fre']\n",
    "df_lci = df[df['parameters.planner'] == 'dynamic_planner_lci']\n",
    "\n",
    "# Metrics to plot\n",
    "metrics = ['Time Ratio to 0 Discoverable', 'Length Ratio to 0 Discoverable', 'Visited/Total Ratio']\n",
    "\n",
    "# Create a line plot for each metric for both planner types\n",
    "for metric in metrics:\n",
    "    plt.figure(figsize=(10, 6))\n",
    "    plt.plot(df_fre['Discoverable/Total Ratio'], df_fre[metric], marker='o', label='FRE ' + metric)\n",
    "    plt.plot(df_lci['Discoverable/Total Ratio'], df_lci[metric], marker='x', label='LCI ' + metric)\n",
    "    plt.ylim(bottom=0)\n",
    "    plt.xlabel('Discoverable/Total Ratio')\n",
    "    plt.ylabel(metric)\n",
    "    plt.title(metric + ' vs Discoverable/Total Ratio')\n",
    "    plt.legend()\n",
    "    plt.grid(True)\n",
    "    plt.show()\n"
   ]
  }
 ],
 "metadata": {
  "kernelspec": {
   "display_name": "Python 3 (ipykernel)",
   "language": "python",
   "name": "python3"
  },
  "language_info": {
   "codemirror_mode": {
    "name": "ipython",
    "version": 3
   },
   "file_extension": ".py",
   "mimetype": "text/x-python",
   "name": "python",
   "nbconvert_exporter": "python",
   "pygments_lexer": "ipython3",
   "version": "3.11.4"
  }
 },
 "nbformat": 4,
 "nbformat_minor": 5
}
