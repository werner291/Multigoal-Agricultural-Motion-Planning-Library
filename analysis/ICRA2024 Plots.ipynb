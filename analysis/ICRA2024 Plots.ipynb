{
 "cells": [
  {
   "cell_type": "code",
   "execution_count": 2,
   "id": "6bae0870-5ca2-4b9e-94d5-f0e88143c450",
   "metadata": {
    "tags": []
   },
   "outputs": [
    {
     "ename": "FileNotFoundError",
     "evalue": "[Errno 2] No such file or directory: 'data/dynamic_log_icra2024_3trees.json'",
     "output_type": "error",
     "traceback": [
      "\u001b[0;31m---------------------------------------------------------------------------\u001b[0m",
      "\u001b[0;31mFileNotFoundError\u001b[0m                         Traceback (most recent call last)",
      "\u001b[0;32m/tmp/ipykernel_12557/1413514486.py\u001b[0m in \u001b[0;36m<module>\u001b[0;34m\u001b[0m\n\u001b[1;32m     11\u001b[0m \u001b[0;34m\u001b[0m\u001b[0m\n\u001b[1;32m     12\u001b[0m \u001b[0;31m# Load the entire JSON file\u001b[0m\u001b[0;34m\u001b[0m\u001b[0;34m\u001b[0m\u001b[0m\n\u001b[0;32m---> 13\u001b[0;31m \u001b[0;32mwith\u001b[0m \u001b[0mopen\u001b[0m\u001b[0;34m(\u001b[0m\u001b[0mfile_path\u001b[0m\u001b[0;34m,\u001b[0m \u001b[0;34m'r'\u001b[0m\u001b[0;34m)\u001b[0m \u001b[0;32mas\u001b[0m \u001b[0mfile\u001b[0m\u001b[0;34m:\u001b[0m\u001b[0;34m\u001b[0m\u001b[0;34m\u001b[0m\u001b[0m\n\u001b[0m\u001b[1;32m     14\u001b[0m     \u001b[0mdata\u001b[0m \u001b[0;34m=\u001b[0m \u001b[0mjson\u001b[0m\u001b[0;34m.\u001b[0m\u001b[0mload\u001b[0m\u001b[0;34m(\u001b[0m\u001b[0mfile\u001b[0m\u001b[0;34m)\u001b[0m\u001b[0;34m\u001b[0m\u001b[0;34m\u001b[0m\u001b[0m\n\u001b[1;32m     15\u001b[0m \u001b[0;34m\u001b[0m\u001b[0m\n",
      "\u001b[0;31mFileNotFoundError\u001b[0m: [Errno 2] No such file or directory: 'data/dynamic_log_icra2024_3trees.json'"
     ]
    }
   ],
   "source": [
    "import json\n",
    "import pandas as pd\n",
    "import matplotlib.pyplot as plt\n",
    "import numpy as np\n",
    "\n",
    "def iqr(data):\n",
    "    return data.quantile(0.75) - data.quantile(0.25)\n",
    "\n",
    "file_path = 'data/dynamic_log_icra2024_3trees.json'\n",
    "\n",
    "# Load the entire JSON file\n",
    "with open(file_path, 'r') as file:\n",
    "    data = json.load(file)\n",
    "\n",
    "# Create DataFrame\n",
    "df = pd.json_normalize(data)\n",
    "\n",
    "df = df.rename(columns={\n",
    "    'result.time': 'Total Time',\n",
    "    'result.total_path_length': 'Total Path Length',\n",
    "    'result.timeout': 'Timeout'\n",
    "})\n",
    "df['Path Length per Visited Node'] = df['Total Path Length'] / df['result.n_visited']\n",
    "df['Discoverable/Total Ratio'] = df['parameters.problem.n_discoverable'] / df['parameters.problem.n_total']\n",
    "df['Visited/Total Ratio'] = df['result.n_visited'] / df['parameters.problem.n_total']\n",
    "\n",
    "df.head()"
   ]
  },
  {
   "cell_type": "code",
   "execution_count": null,
   "id": "54a9a144-ffce-44a4-984f-005a14335c38",
   "metadata": {
    "tags": []
   },
   "outputs": [],
   "source": [
    "\n",
    "\n",
    "# Metrics to plot\n",
    "metrics = ['Total Time', 'Path Length per Visited Node']#, 'Visited/Total Ratio', 'Timeout']\n",
    "\n",
    "# Extract unique tree models and planners\n",
    "tree_models = df['parameters.problem.tree_model'].unique()\n",
    "planners = df['parameters.planner'].unique()\n",
    "\n",
    "# Create subplots for each metric and tree model\n",
    "fig, axs = plt.subplots(len(metrics), len(tree_models), figsize=(8, 6))\n",
    "\n",
    "# For each metric and tree model, create a plot\n",
    "for i, metric in enumerate(metrics):\n",
    "    for j, tree_model in enumerate(tree_models):\n",
    "        for planner in planners:\n",
    "            df_planner_tree = df[df['parameters.planner'] == planner]\n",
    "            df_planner_tree = df_planner_tree[df_planner_tree['parameters.problem.tree_model'] == tree_model].groupby('Discoverable/Total Ratio')[metric]\n",
    "\n",
    "            # Calculate means and IQRs, but skip for Timeout as it's a proportion\n",
    "            planner_means = df_planner_tree.mean().dropna()\n",
    "            \n",
    "            if metric != 'Timeout':\n",
    "                planner_errors = df_planner_tree.apply(iqr).dropna()\n",
    "                axs[i, j].errorbar(planner_means.index, planner_means.values, yerr=planner_errors.values, fmt='o-', label=planner)\n",
    "            else:\n",
    "                axs[i, j].plot(planner_means.index, planner_means.values, 'o-', label=planner)\n",
    "\n",
    "        # Extract 'n_total' value for title\n",
    "        n_total = df[df['parameters.problem.tree_model'] == tree_model]['parameters.problem.n_total'].iloc[0]\n",
    "\n",
    "        # Set plot title, labels, and legend\n",
    "        if i == 0:\n",
    "            axs[i, j].set_title(f'n_total={n_total}')\n",
    "        a     \n",
    "        if i == len(metrics)-1:\n",
    "            axs[i, j].set_xlabel('Discoverable/Total Ratio')\n",
    "         \n",
    "        if j == 0:\n",
    "            axs[i, j].set_ylabel(metric)\n",
    "        \n",
    "        if (i,j) == (len(metrics)-1,len(tree_models)-1):\n",
    "            axs[i, j].legend()\n",
    "\n",
    "        # Set y-axis limit to start at 0\n",
    "        axs[i, j].set_ylim(bottom=0)\n",
    "        axs[i,j].grid()\n",
    "\n",
    "plt.title('Hello')\n",
    "        \n",
    "# Improve layout and show plot\n",
    "plt.tight_layout()\n",
    "plt.show()\n",
    "\n",
    "plt.savefig('lci_vs_fre.pdf')"
   ]
  },
  {
   "cell_type": "code",
   "execution_count": null,
   "id": "475f488c-053d-4ce0-8a9c-674c80b78a1e",
   "metadata": {},
   "outputs": [],
   "source": []
  }
 ],
 "metadata": {
  "kernelspec": {
   "display_name": "Python 3 (ipykernel)",
   "language": "python",
   "name": "python3"
  },
  "language_info": {
   "codemirror_mode": {
    "name": "ipython",
    "version": 3
   },
   "file_extension": ".py",
   "mimetype": "text/x-python",
   "name": "python",
   "nbconvert_exporter": "python",
   "pygments_lexer": "ipython3",
   "version": "3.10.12"
  }
 },
 "nbformat": 4,
 "nbformat_minor": 5
}
