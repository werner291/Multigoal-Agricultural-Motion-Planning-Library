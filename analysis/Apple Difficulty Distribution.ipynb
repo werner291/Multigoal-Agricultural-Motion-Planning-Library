{
 "cells": [
  {
   "cell_type": "code",
   "execution_count": null,
   "id": "daa965a3-30dc-405f-9016-1d4980f2c259",
   "metadata": {
    "tags": []
   },
   "outputs": [],
   "source": [
    "import sys\n",
    "# the mock-0.3.1 dir contains testcase.py, testutils.py & mock.py\n",
    "sys.path.append('../cmake-build-release')\n",
    "\n",
    "import pymgodpl as mg\n",
    "import pandas as pd\n",
    "import numpy as np\n",
    "import matplotlib.pyplot as plt\n",
    "import seaborn as sns\n",
    "import random\n",
    "import time"
   ]
  },
  {
   "cell_type": "code",
   "execution_count": null,
   "id": "dd0553c8-2db7-43ac-8a1a-cd34d56e897e",
   "metadata": {
    "tags": []
   },
   "outputs": [],
   "source": [
    "rm = mg.load_robot_model(1.0)"
   ]
  },
  {
   "cell_type": "code",
   "execution_count": null,
   "id": "da561ba4-52ab-46b9-9eb0-e73ab53a5dbc",
   "metadata": {
    "tags": []
   },
   "outputs": [],
   "source": [
    "trees = mg.load_all_tree_meshes()"
   ]
  },
  {
   "cell_type": "code",
   "execution_count": null,
   "id": "026a3801-34d8-46f9-9e0f-f0ddf19735b3",
   "metadata": {
    "tags": []
   },
   "outputs": [],
   "source": [
    "sample_data = []\n",
    "N_TRIALS = 1000\n",
    "MAX_FRUIT = 500\n",
    "\n",
    "for tree in trees:\n",
    "    \n",
    "    fruit = tree.fruit_positions()\n",
    "    \n",
    "    print(f'Starting tree: {tree.name} with {len(fruit)} fruit')\n",
    "    \n",
    "    if len(fruit) > MAX_FRUIT:\n",
    "        fruit = random.sample(fruit, MAX_FRUIT)\n",
    "    \n",
    "    cd = mg.CollisionDetection([tree.trunk], rm)\n",
    "    \n",
    "    for (fruit_i, fruit) in enumerate(fruit):\n",
    "        \n",
    "        successes = 0\n",
    "        \n",
    "        for sample_i in range(N_TRIALS):\n",
    "\n",
    "            sample = mg.sample_goal_region(fruit, random.randint(0, 100000), rm)\n",
    "            collides = cd.collides(sample)\n",
    "            \n",
    "            if not collides:\n",
    "                successes += 1\n",
    "                \n",
    "        sample_data.append({'tree':tree.name, 'successes':successes})\n",
    "    \n",
    "    print('Done with tree: ', tree.name)\n",
    "            \n",
    "sample_data = pd.DataFrame(sample_data)"
   ]
  },
  {
   "cell_type": "code",
   "execution_count": null,
   "id": "ee34ef5b-752d-4c02-b2e9-9100bd9c96d1",
   "metadata": {
    "tags": []
   },
   "outputs": [],
   "source": [
    "sample_data['success_rate'] = sample_data['successes'] / N_TRIALS"
   ]
  },
  {
   "cell_type": "code",
   "execution_count": null,
   "id": "1054a021-3d0f-4f12-b4a5-1f4a72529b8e",
   "metadata": {
    "tags": []
   },
   "outputs": [],
   "source": [
    "sample_data.reset_index().plot.box(by='tree', column='success_rate', figsize=(15,6), color={'boxes':'green'})\n",
    "plt.yscale('symlog', linthresh=0.01)\n",
    "plt.xticks(orientation=90)\n",
    "yticks = [0,\n",
    "          #0.001,0.002,0.005,\n",
    "          0.005,\n",
    "          0.01,0.02,0.05,\n",
    "          0.1,0.2,0.5,\n",
    "          1.0]\n",
    "plt.yticks(yticks, ['{0:.1f}%'.format(y*100) for y in yticks])\n",
    "plt.ylim(0,1)\n",
    "plt.grid()"
   ]
  },
  {
   "cell_type": "code",
   "execution_count": null,
   "id": "a3970866-fbb5-48f9-9475-a5dfaf0f756b",
   "metadata": {},
   "outputs": [],
   "source": []
  }
 ],
 "metadata": {
  "kernelspec": {
   "display_name": "Python 3 (ipykernel)",
   "language": "python",
   "name": "python3"
  },
  "language_info": {
   "codemirror_mode": {
    "name": "ipython",
    "version": 3
   },
   "file_extension": ".py",
   "mimetype": "text/x-python",
   "name": "python",
   "nbconvert_exporter": "python",
   "pygments_lexer": "ipython3",
   "version": "3.10.12"
  }
 },
 "nbformat": 4,
 "nbformat_minor": 5
}
