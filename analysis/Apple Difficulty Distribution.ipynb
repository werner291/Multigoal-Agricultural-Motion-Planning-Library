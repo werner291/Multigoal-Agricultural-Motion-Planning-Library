{
 "cells": [
  {
   "cell_type": "code",
   "execution_count": 1,
   "id": "daa965a3-30dc-405f-9016-1d4980f2c259",
   "metadata": {
    "tags": []
   },
   "outputs": [],
   "source": [
    "import sys\n",
    "# the mock-0.3.1 dir contains testcase.py, testutils.py & mock.py\n",
    "sys.path.append('../cmake-build-release')\n",
    "\n",
    "import pymgodpl as mg\n",
    "import pandas as pd\n",
    "import numpy as np\n",
    "import matplotlib.pyplot as plt\n",
    "import seaborn as sns\n",
    "import random\n",
    "import time"
   ]
  },
  {
   "cell_type": "code",
   "execution_count": 2,
   "id": "dd0553c8-2db7-43ac-8a1a-cd34d56e897e",
   "metadata": {
    "tags": []
   },
   "outputs": [
    {
     "name": "stderr",
     "output_type": "stream",
     "text": [
      "[INFO] [1699971928.070901716] [moveit_robot_model.robot_model]: Loading robot model 'aerial_manipulator_drone'...\n",
      "[WARN] [1699971928.070965476] [moveit_robot_model.robot_model]: Link end_effector has visual geometry but no collision geometry. Collision geometry will be left empty. Fix your URDF file by explicitly specifying collision geometry.\n",
      "[WARN] [1699971928.071009098] [moveit_robot_model.robot_model]: Could not identify parent group for end-effector 'end_effector'\n"
     ]
    }
   ],
   "source": [
    "rm = mg.load_robot_model(1.0)"
   ]
  },
  {
   "cell_type": "code",
   "execution_count": 3,
   "id": "da561ba4-52ab-46b9-9eb0-e73ab53a5dbc",
   "metadata": {
    "tags": []
   },
   "outputs": [
    {
     "name": "stdout",
     "output_type": "stream",
     "text": [
      "Removed 2700 out of 5400 fruit meshes that were too small from model peachtree2\n",
      "Removed 600 out of 1200 fruit meshes that were too small from model nectarinetree3\n",
      "Removed 1250 out of 2500 fruit meshes that were too small from model lemontree4\n",
      "Removed 25 out of 50 fruit meshes that were too small from model orangetree2\n",
      "Removed 50 out of 100 fruit meshes that were too small from model lemontree1\n",
      "Removed 200 out of 400 fruit meshes that were too small from model lemontree2\n",
      "Removed 300 out of 600 fruit meshes that were too small from model orangetree4\n",
      "Removed 1300 out of 2600 fruit meshes that were too small from model nectarinetree4\n",
      "Removed 20 out of 40 fruit meshes that were too small from model orangetree1\n",
      "Removed 100 out of 200 fruit meshes that were too small from model nectarinetree2\n",
      "Removed 100 out of 200 fruit meshes that were too small from model nectarinetree1\n",
      "Removed 9000 out of 18000 fruit meshes that were too small from model peachtree4\n",
      "Removed 75 out of 150 fruit meshes that were too small from model appletree2\n",
      "Removed 750 out of 1500 fruit meshes that were too small from model lemontree3\n",
      "Removed 3900 out of 7800 fruit meshes that were too small from model peachtree3\n"
     ]
    }
   ],
   "source": [
    "trees = mg.load_all_tree_meshes()"
   ]
  },
  {
   "cell_type": "code",
   "execution_count": 4,
   "id": "026a3801-34d8-46f9-9e0f-f0ddf19735b3",
   "metadata": {
    "collapsed": true,
    "jupyter": {
     "outputs_hidden": true
    },
    "tags": []
   },
   "outputs": [
    {
     "name": "stdout",
     "output_type": "stream",
     "text": [
      "Starting tree: peachtree2 with 2700 fruit\n",
      "Done with tree:  peachtree2\n",
      "Starting tree: nectarinetree3 with 600 fruit\n",
      "Done with tree:  nectarinetree3\n",
      "Starting tree: appletree with 165 fruit\n",
      "Done with tree:  appletree\n",
      "Starting tree: plumtree3 with 2700 fruit\n",
      "Done with tree:  plumtree3\n",
      "Starting tree: peartree1 with 50 fruit\n",
      "Done with tree:  peartree1\n",
      "Starting tree: peartree2 with 100 fruit\n",
      "Done with tree:  peartree2\n",
      "Starting tree: lemontree4 with 1250 fruit\n",
      "Done with tree:  lemontree4\n",
      "Starting tree: peachtree1 with 1800 fruit\n",
      "Done with tree:  peachtree1\n",
      "Starting tree: plumtree4 with 6498 fruit\n",
      "Done with tree:  plumtree4\n",
      "Starting tree: appletree1 with 16 fruit\n",
      "Done with tree:  appletree1\n",
      "Starting tree: orangetree2 with 25 fruit\n",
      "Done with tree:  orangetree2\n",
      "Starting tree: orangetree3 with 100 fruit\n",
      "Done with tree:  orangetree3\n",
      "Starting tree: appletree3 with 400 fruit\n",
      "Done with tree:  appletree3\n",
      "Starting tree: lemontree1 with 50 fruit\n",
      "Done with tree:  lemontree1\n",
      "Starting tree: lemontree2 with 200 fruit\n",
      "Done with tree:  lemontree2\n",
      "Starting tree: orangetree4 with 300 fruit\n",
      "Done with tree:  orangetree4\n",
      "Starting tree: nectarinetree4 with 1300 fruit\n",
      "Done with tree:  nectarinetree4\n",
      "Starting tree: orangetree1 with 20 fruit\n",
      "Done with tree:  orangetree1\n",
      "Starting tree: plumtree1 with 600 fruit\n",
      "Done with tree:  plumtree1\n",
      "Starting tree: nectarinetree2 with 100 fruit\n",
      "Done with tree:  nectarinetree2\n",
      "Starting tree: nectarinetree1 with 100 fruit\n",
      "Done with tree:  nectarinetree1\n",
      "Starting tree: plumtree2 with 1050 fruit\n",
      "Done with tree:  plumtree2\n",
      "Starting tree: peachtree4 with 9000 fruit\n",
      "Done with tree:  peachtree4\n",
      "Starting tree: appletree2 with 75 fruit\n",
      "Done with tree:  appletree2\n",
      "Starting tree: peartree3 with 500 fruit\n",
      "Done with tree:  peartree3\n",
      "Starting tree: lemontree3 with 750 fruit\n",
      "Done with tree:  lemontree3\n",
      "Starting tree: peachtree3 with 3900 fruit\n",
      "Done with tree:  peachtree3\n"
     ]
    }
   ],
   "source": [
    "sample_data = []\n",
    "N_TRIALS = 1000\n",
    "MAX_FRUIT = 500\n",
    "\n",
    "for tree in trees:\n",
    "    \n",
    "    fruit = tree.fruit_positions()\n",
    "    \n",
    "    print(f'Starting tree: {tree.name} with {len(fruit)} fruit')\n",
    "    \n",
    "    if len(fruit) > MAX_FRUIT:\n",
    "        fruit = random.sample(fruit, MAX_FRUIT)\n",
    "    \n",
    "    cd = mg.CollisionDetection([tree.trunk], rm)\n",
    "    \n",
    "    for (fruit_i, fruit) in enumerate(fruit):\n",
    "        \n",
    "        successes = 0\n",
    "        \n",
    "        for sample_i in range(N_TRIALS):\n",
    "\n",
    "            sample = mg.sample_goal_region(fruit, random.randint(0, 100000), rm)\n",
    "            collides = cd.collides(sample)\n",
    "            \n",
    "            if not collides:\n",
    "                successes += 1\n",
    "                \n",
    "        sample_data.append({'tree':tree.name, 'successes':successes})\n",
    "    \n",
    "    print('Done with tree: ', tree.name)\n",
    "            \n",
    "sample_data = pd.DataFrame(sample_data)"
   ]
  },
  {
   "cell_type": "code",
   "execution_count": 7,
   "id": "ee34ef5b-752d-4c02-b2e9-9100bd9c96d1",
   "metadata": {
    "tags": []
   },
   "outputs": [],
   "source": [
    "sample_data['success_rate'] = sample_data['successes'] / N_TRIALS"
   ]
  },
  {
   "cell_type": "code",
   "execution_count": 8,
   "id": "1054a021-3d0f-4f12-b4a5-1f4a72529b8e",
   "metadata": {
    "tags": []
   },
   "outputs": [
    {
     "data": {
      "image/png": "[encoded data removed]",
      "text/plain": [
       "<Figure size 1080x432 with 1 Axes>"
      ]
     },
     "metadata": {
      "needs_background": "light"
     },
     "output_type": "display_data"
    }
   ],
   "source": [
    "sample_data.reset_index().plot.box(by='tree', column='success_rate', figsize=(15,6), color={'boxes':'green'})\n",
    "plt.yscale('symlog', linthresh=0.01)\n",
    "plt.xticks(rotation=90)\n",
    "yticks = [0,\n",
    "          #0.001,0.002,0.005,\n",
    "          0.005,\n",
    "          0.01,0.02,0.05,\n",
    "          0.1,0.2,0.5,\n",
    "          1.0]\n",
    "plt.yticks(yticks, ['{0:.1f}%'.format(y*100) for y in yticks])\n",
    "plt.ylim(0,1)\n",
    "plt.grid()"
   ]
  },
  {
   "cell_type": "code",
   "execution_count": null,
   "id": "a3970866-fbb5-48f9-9475-a5dfaf0f756b",
   "metadata": {},
   "outputs": [],
   "source": []
  }
 ],
 "metadata": {
  "kernelspec": {
   "display_name": "Python 3 (ipykernel)",
   "language": "python",
   "name": "python3"
  },
  "language_info": {
   "codemirror_mode": {
    "name": "ipython",
    "version": 3
   },
   "file_extension": ".py",
   "mimetype": "text/x-python",
   "name": "python",
   "nbconvert_exporter": "python",
   "pygments_lexer": "ipython3",
   "version": "3.10.12"
  }
 },
 "nbformat": 4,
 "nbformat_minor": 5
}
