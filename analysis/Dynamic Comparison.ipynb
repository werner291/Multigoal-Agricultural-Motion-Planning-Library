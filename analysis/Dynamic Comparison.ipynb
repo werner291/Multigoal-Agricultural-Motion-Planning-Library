{
 "cells": [
  {
   "cell_type": "code",
   "execution_count": null,
   "id": "a23399ca-9c10-44b2-af3f-83d5a9671bcd",
   "metadata": {
    "tags": []
   },
   "outputs": [],
   "source": [
    "import numpy as np\n",
    "import json\n",
    "import pandas as pd\n",
    "import matplotlib.pyplot as plt\n",
    "import parse_runs"
   ]
  },
  {
   "cell_type": "code",
   "execution_count": null,
   "id": "91fd95d3-1f62-4d6d-87da-624298a46376",
   "metadata": {
    "tags": []
   },
   "outputs": [],
   "source": [
    "runs_df, runs_segments = parse_runs.load_and_process_json('data/dynamic_log_advanced.json')"
   ]
  },
  {
   "cell_type": "code",
   "execution_count": null,
   "id": "3fabc5b4-ade3-485e-a352-3cb489105ade",
   "metadata": {
    "tags": []
   },
   "outputs": [],
   "source": [
    "# Create boxplot\n",
    "fig, axes = plt.subplots(2,2, figsize=(10,15))\n",
    "\n",
    "for (column, ax_row) in zip(['length_per_visited','n_visited'],axes):\n",
    "    for (((n,nd),df),ax) in zip(runs_df.groupby(['n_total','n_discoverable']), ax_row):\n",
    "        df.boxplot(column, rot=90, by='planner', ax=ax)\n",
    "\n",
    "        ax.set_title('{}, n={}, d={}'.format(column, n, nd))\n",
    "        \n",
    "        ax.set_xlabel('Planner')\n",
    "        ax.set_ylabel(column)\n",
    "        \n",
    "        ax.set_ylim(bottom=0)\n",
    "\n",
    "# Adjust layout\n",
    "plt.tight_layout()\n",
    "\n",
    "# Show plot\n",
    "plt.show()"
   ]
  },
  {
   "cell_type": "code",
   "execution_count": null,
   "id": "b87c73ab-6784-4ca1-b004-b7294e97a1c1",
   "metadata": {
    "tags": []
   },
   "outputs": [],
   "source": [
    "def q1(x):\n",
    "    return x.quantile(0.25)\n",
    "\n",
    "def q2(x):\n",
    "    return x.quantile(0.75)\n",
    "\n",
    "print(runs_df.groupby(['n_total','n_discoverable','planner'])[['length_per_visited','n_visited']].agg([q1,'median',q2]).to_csv())"
   ]
  },
  {
   "cell_type": "code",
   "execution_count": null,
   "id": "d0326643-4ef5-478c-a7a6-b1ae4db50657",
   "metadata": {
    "tags": []
   },
   "outputs": [],
   "source": [
    "run"
   ]
  },
  {
   "cell_type": "code",
   "execution_count": null,
   "id": "051a8aef-9f60-458b-b919-18ac94a0d050",
   "metadata": {
    "tags": []
   },
   "outputs": [],
   "source": [
    "by_scenario = {}"
   ]
  },
  {
   "cell_type": "code",
   "execution_count": null,
   "id": "851aec51-56ae-47d9-8591-64e82b300038",
   "metadata": {
    "tags": []
   },
   "outputs": [],
   "source": [
    "\n",
    "\n",
    "\n",
    "run = runs_df.loc[0]\n",
    "\n",
    "segment_stats_cum = runs_segments[0].cumsum()\n",
    "\n",
    "segment_stats_cum['goals_discovered'] += run['known_unvisited']\n",
    "\n",
    "def interp(df, new_index):\n",
    "    \"\"\"Return a new DataFrame with all columns values interpolated\n",
    "    to the new_index values.\"\"\"\n",
    "    df_out = pd.DataFrame(index=new_index)\n",
    "    df_out.index.name = df.index.name\n",
    "\n",
    "    for colname, col in df.iteritems():\n",
    "        df_out[colname] = np.interp(new_index, df.index, col)\n",
    "\n",
    "    return df_out\n",
    "\n",
    "interp(segment_stats_cum.set_index('path_length')[['goals_discovered','goals_visited']], np.linspace(0,400,101))"
   ]
  },
  {
   "cell_type": "code",
   "execution_count": null,
   "id": "d21d3fa0-ca7c-4f40-8653-007bf8b72256",
   "metadata": {},
   "outputs": [],
   "source": []
  }
 ],
 "metadata": {
  "kernelspec": {
   "display_name": "Python 3 (ipykernel)",
   "language": "python",
   "name": "python3"
  },
  "language_info": {
   "codemirror_mode": {
    "name": "ipython",
    "version": 3
   },
   "file_extension": ".py",
   "mimetype": "text/x-python",
   "name": "python",
   "nbconvert_exporter": "python",
   "pygments_lexer": "ipython3",
   "version": "3.10.6"
  }
 },
 "nbformat": 4,
 "nbformat_minor": 5
}
